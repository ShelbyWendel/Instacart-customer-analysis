{
 "cells": [
  {
   "cell_type": "markdown",
   "id": "c18da070",
   "metadata": {},
   "source": [
    "# Contents:"
   ]
  },
  {
   "cell_type": "markdown",
   "id": "ad82d171",
   "metadata": {},
   "source": [
    "#### Importing libraries and data frames\n",
    "#### Creating a region flag\n",
    "#### Crossing the region flag with the spending flag\n",
    "#### Creating an exclusion flag for customers with under 5 orders\n",
    "#### Creating customer profiling variables (family status, vegan status, and age categories)\n",
    "#### Grouping and aggregation (order frequency and expenditure)\n",
    "#### Visualizations\n",
    "#### Crosstabulation and aggregation of customer profiling variables\n",
    "#### Saving and exporting to a pkl file"
   ]
  },
  {
   "cell_type": "markdown",
   "id": "936a3a02",
   "metadata": {},
   "source": [
    "## Importing libraries and data frames"
   ]
  },
  {
   "cell_type": "code",
   "execution_count": 1,
   "id": "5a9f9288",
   "metadata": {},
   "outputs": [],
   "source": [
    "import pandas as pd\n",
    "import numpy as np\n",
    "import os\n",
    "import seaborn as sns\n",
    "import matplotlib.pyplot as plt\n",
    "import scipy"
   ]
  },
  {
   "cell_type": "code",
   "execution_count": 2,
   "id": "63760ea0",
   "metadata": {},
   "outputs": [],
   "source": [
    "path=r'C:\\Users\\Shelb\\OneDrive\\Documents\\CF Coursework\\Python Fundamentals for Data Analysts\\10-2022 Instacart Basket Analysis'"
   ]
  },
  {
   "cell_type": "code",
   "execution_count": 3,
   "id": "844e344b",
   "metadata": {},
   "outputs": [],
   "source": [
    "# To establish the integrated data set as a dataframe object\n",
    "df=pd.read_pickle(os.path.join(path,'Data','Prepared Data','11-17_integrated_data.pkl'))"
   ]
  },
  {
   "cell_type": "code",
   "execution_count": 4,
   "id": "1ff840f5",
   "metadata": {},
   "outputs": [],
   "source": [
    "# To drop unneeded _merge column\n",
    "df.drop(columns={'_merge'},inplace=True)"
   ]
  },
  {
   "cell_type": "markdown",
   "id": "f77a20e6",
   "metadata": {},
   "source": [
    "## Creating a region flag"
   ]
  },
  {
   "cell_type": "code",
   "execution_count": 5,
   "id": "5b5a2b33",
   "metadata": {},
   "outputs": [],
   "source": [
    "# defining regions as list objects\n",
    "northeast=['Maine','New Hampshire','Vermont','Massachusetts','Rhode Island','Connecticut','New York','Pennsylvania','New Jersey']\n",
    "midwest=['Wisconsin','Michigan','Illinois','Indiana','Ohio','North Dakota','South Dakota','Nebraska','Kansas','Minnesota','Iowa','Missouri']\n",
    "south=['Delaware','Maryland','District of Columbia','Virginia','West Virginia','North Carolina','South Carolina','Georgia','Florida','Kentucky','Tennessee','Mississippi','Alabama','Oklahoma','Texas','Arkansas','Louisiana']\n",
    "west=['Idaho','Montana','Wyoming','Nevada','Utah','Colorado','Arizona','New Mexico','Alaska','Washington','Oregon','California','Hawaii']"
   ]
  },
  {
   "cell_type": "code",
   "execution_count": 6,
   "id": "b037bb3e",
   "metadata": {},
   "outputs": [],
   "source": [
    "# creating an empty list and for loop logic\n",
    "result=[]\n",
    "\n",
    "for value in df['state']:\n",
    "    if value in northeast:\n",
    "        result.append('Northeast')\n",
    "    elif value in midwest:\n",
    "        result.append('Midwest')\n",
    "    elif value in south:\n",
    "        result.append('South')\n",
    "    elif value in west:\n",
    "        result.append('West')"
   ]
  },
  {
   "cell_type": "code",
   "execution_count": 7,
   "id": "729e399d",
   "metadata": {},
   "outputs": [],
   "source": [
    "# creating the region column based on the for loop results\n",
    "df['regions']=result"
   ]
  },
  {
   "cell_type": "code",
   "execution_count": 8,
   "id": "142ba54c",
   "metadata": {},
   "outputs": [
    {
     "data": {
      "text/plain": [
       "South        10791885\n",
       "West          8292913\n",
       "Midwest       7597325\n",
       "Northeast     5722736\n",
       "Name: regions, dtype: int64"
      ]
     },
     "execution_count": 8,
     "metadata": {},
     "output_type": "execute_result"
    }
   ],
   "source": [
    "# To check the value counts in the regions column\n",
    "df['regions'].value_counts()"
   ]
  },
  {
   "cell_type": "code",
   "execution_count": 9,
   "id": "6ad06825",
   "metadata": {},
   "outputs": [
    {
     "data": {
      "text/plain": [
       "32404859"
      ]
     },
     "execution_count": 9,
     "metadata": {},
     "output_type": "execute_result"
    }
   ],
   "source": [
    "# To check that the regions column is the same length as the rest of the data frame\n",
    "len(df['regions'])"
   ]
  },
  {
   "cell_type": "code",
   "execution_count": 10,
   "id": "415cf2d5",
   "metadata": {},
   "outputs": [
    {
     "data": {
      "text/html": [
       "<div>\n",
       "<style scoped>\n",
       "    .dataframe tbody tr th:only-of-type {\n",
       "        vertical-align: middle;\n",
       "    }\n",
       "\n",
       "    .dataframe tbody tr th {\n",
       "        vertical-align: top;\n",
       "    }\n",
       "\n",
       "    .dataframe thead th {\n",
       "        text-align: right;\n",
       "    }\n",
       "</style>\n",
       "<table border=\"1\" class=\"dataframe\">\n",
       "  <thead>\n",
       "    <tr style=\"text-align: right;\">\n",
       "      <th></th>\n",
       "      <th>order_id</th>\n",
       "      <th>user_id</th>\n",
       "      <th>order_number</th>\n",
       "      <th>order_day_of_week</th>\n",
       "      <th>hour_order_placed</th>\n",
       "      <th>days_since_prior_order</th>\n",
       "      <th>new_customer</th>\n",
       "      <th>product_id</th>\n",
       "      <th>add_to_cart_order</th>\n",
       "      <th>reordered</th>\n",
       "      <th>...</th>\n",
       "      <th>first_name</th>\n",
       "      <th>last_name</th>\n",
       "      <th>gender</th>\n",
       "      <th>state</th>\n",
       "      <th>age</th>\n",
       "      <th>date_joined</th>\n",
       "      <th>dependants</th>\n",
       "      <th>fam_status</th>\n",
       "      <th>income</th>\n",
       "      <th>regions</th>\n",
       "    </tr>\n",
       "  </thead>\n",
       "  <tbody>\n",
       "    <tr>\n",
       "      <th>0</th>\n",
       "      <td>2539329</td>\n",
       "      <td>1</td>\n",
       "      <td>1</td>\n",
       "      <td>2</td>\n",
       "      <td>8</td>\n",
       "      <td>NaN</td>\n",
       "      <td>True</td>\n",
       "      <td>196</td>\n",
       "      <td>1</td>\n",
       "      <td>0</td>\n",
       "      <td>...</td>\n",
       "      <td>Linda</td>\n",
       "      <td>Nguyen</td>\n",
       "      <td>Female</td>\n",
       "      <td>Alabama</td>\n",
       "      <td>31</td>\n",
       "      <td>2/17/2019</td>\n",
       "      <td>3</td>\n",
       "      <td>married</td>\n",
       "      <td>40423</td>\n",
       "      <td>South</td>\n",
       "    </tr>\n",
       "    <tr>\n",
       "      <th>1</th>\n",
       "      <td>2398795</td>\n",
       "      <td>1</td>\n",
       "      <td>2</td>\n",
       "      <td>3</td>\n",
       "      <td>7</td>\n",
       "      <td>15.0</td>\n",
       "      <td>False</td>\n",
       "      <td>196</td>\n",
       "      <td>1</td>\n",
       "      <td>1</td>\n",
       "      <td>...</td>\n",
       "      <td>Linda</td>\n",
       "      <td>Nguyen</td>\n",
       "      <td>Female</td>\n",
       "      <td>Alabama</td>\n",
       "      <td>31</td>\n",
       "      <td>2/17/2019</td>\n",
       "      <td>3</td>\n",
       "      <td>married</td>\n",
       "      <td>40423</td>\n",
       "      <td>South</td>\n",
       "    </tr>\n",
       "    <tr>\n",
       "      <th>2</th>\n",
       "      <td>473747</td>\n",
       "      <td>1</td>\n",
       "      <td>3</td>\n",
       "      <td>3</td>\n",
       "      <td>12</td>\n",
       "      <td>21.0</td>\n",
       "      <td>False</td>\n",
       "      <td>196</td>\n",
       "      <td>1</td>\n",
       "      <td>1</td>\n",
       "      <td>...</td>\n",
       "      <td>Linda</td>\n",
       "      <td>Nguyen</td>\n",
       "      <td>Female</td>\n",
       "      <td>Alabama</td>\n",
       "      <td>31</td>\n",
       "      <td>2/17/2019</td>\n",
       "      <td>3</td>\n",
       "      <td>married</td>\n",
       "      <td>40423</td>\n",
       "      <td>South</td>\n",
       "    </tr>\n",
       "    <tr>\n",
       "      <th>3</th>\n",
       "      <td>2254736</td>\n",
       "      <td>1</td>\n",
       "      <td>4</td>\n",
       "      <td>4</td>\n",
       "      <td>7</td>\n",
       "      <td>29.0</td>\n",
       "      <td>False</td>\n",
       "      <td>196</td>\n",
       "      <td>1</td>\n",
       "      <td>1</td>\n",
       "      <td>...</td>\n",
       "      <td>Linda</td>\n",
       "      <td>Nguyen</td>\n",
       "      <td>Female</td>\n",
       "      <td>Alabama</td>\n",
       "      <td>31</td>\n",
       "      <td>2/17/2019</td>\n",
       "      <td>3</td>\n",
       "      <td>married</td>\n",
       "      <td>40423</td>\n",
       "      <td>South</td>\n",
       "    </tr>\n",
       "    <tr>\n",
       "      <th>4</th>\n",
       "      <td>431534</td>\n",
       "      <td>1</td>\n",
       "      <td>5</td>\n",
       "      <td>4</td>\n",
       "      <td>15</td>\n",
       "      <td>28.0</td>\n",
       "      <td>False</td>\n",
       "      <td>196</td>\n",
       "      <td>1</td>\n",
       "      <td>1</td>\n",
       "      <td>...</td>\n",
       "      <td>Linda</td>\n",
       "      <td>Nguyen</td>\n",
       "      <td>Female</td>\n",
       "      <td>Alabama</td>\n",
       "      <td>31</td>\n",
       "      <td>2/17/2019</td>\n",
       "      <td>3</td>\n",
       "      <td>married</td>\n",
       "      <td>40423</td>\n",
       "      <td>South</td>\n",
       "    </tr>\n",
       "  </tbody>\n",
       "</table>\n",
       "<p>5 rows × 32 columns</p>\n",
       "</div>"
      ],
      "text/plain": [
       "   order_id  user_id  order_number  order_day_of_week  hour_order_placed  \\\n",
       "0   2539329        1             1                  2                  8   \n",
       "1   2398795        1             2                  3                  7   \n",
       "2    473747        1             3                  3                 12   \n",
       "3   2254736        1             4                  4                  7   \n",
       "4    431534        1             5                  4                 15   \n",
       "\n",
       "   days_since_prior_order  new_customer  product_id  add_to_cart_order  \\\n",
       "0                     NaN          True         196                  1   \n",
       "1                    15.0         False         196                  1   \n",
       "2                    21.0         False         196                  1   \n",
       "3                    29.0         False         196                  1   \n",
       "4                    28.0         False         196                  1   \n",
       "\n",
       "   reordered  ... first_name  last_name  gender    state age date_joined  \\\n",
       "0          0  ...      Linda     Nguyen  Female  Alabama  31   2/17/2019   \n",
       "1          1  ...      Linda     Nguyen  Female  Alabama  31   2/17/2019   \n",
       "2          1  ...      Linda     Nguyen  Female  Alabama  31   2/17/2019   \n",
       "3          1  ...      Linda     Nguyen  Female  Alabama  31   2/17/2019   \n",
       "4          1  ...      Linda     Nguyen  Female  Alabama  31   2/17/2019   \n",
       "\n",
       "  dependants  fam_status income regions  \n",
       "0          3     married  40423   South  \n",
       "1          3     married  40423   South  \n",
       "2          3     married  40423   South  \n",
       "3          3     married  40423   South  \n",
       "4          3     married  40423   South  \n",
       "\n",
       "[5 rows x 32 columns]"
      ]
     },
     "execution_count": 10,
     "metadata": {},
     "output_type": "execute_result"
    }
   ],
   "source": [
    "df.head()"
   ]
  },
  {
   "cell_type": "markdown",
   "id": "b13cdda5",
   "metadata": {},
   "source": [
    "## Crossing the region flag with the spending flag"
   ]
  },
  {
   "cell_type": "code",
   "execution_count": 11,
   "id": "449e6296",
   "metadata": {},
   "outputs": [],
   "source": [
    "# Creating a crosstab to determine difference in spending power across regions\n",
    "crosstab=pd.crosstab(df['regions'],df['spending_flag'],dropna=False)"
   ]
  },
  {
   "cell_type": "code",
   "execution_count": 12,
   "id": "0342d26e",
   "metadata": {},
   "outputs": [],
   "source": [
    "crosstab.to_clipboard()"
   ]
  },
  {
   "cell_type": "code",
   "execution_count": 13,
   "id": "1f6dc5d2",
   "metadata": {},
   "outputs": [
    {
     "data": {
      "text/html": [
       "<div>\n",
       "<style scoped>\n",
       "    .dataframe tbody tr th:only-of-type {\n",
       "        vertical-align: middle;\n",
       "    }\n",
       "\n",
       "    .dataframe tbody tr th {\n",
       "        vertical-align: top;\n",
       "    }\n",
       "\n",
       "    .dataframe thead th {\n",
       "        text-align: right;\n",
       "    }\n",
       "</style>\n",
       "<table border=\"1\" class=\"dataframe\">\n",
       "  <thead>\n",
       "    <tr style=\"text-align: right;\">\n",
       "      <th>spending_flag</th>\n",
       "      <th>High spender</th>\n",
       "      <th>Low spender</th>\n",
       "    </tr>\n",
       "    <tr>\n",
       "      <th>regions</th>\n",
       "      <th></th>\n",
       "      <th></th>\n",
       "    </tr>\n",
       "  </thead>\n",
       "  <tbody>\n",
       "    <tr>\n",
       "      <th>Midwest</th>\n",
       "      <td>2497034</td>\n",
       "      <td>5100291</td>\n",
       "    </tr>\n",
       "    <tr>\n",
       "      <th>Northeast</th>\n",
       "      <td>1875170</td>\n",
       "      <td>3847566</td>\n",
       "    </tr>\n",
       "    <tr>\n",
       "      <th>South</th>\n",
       "      <td>3549625</td>\n",
       "      <td>7242260</td>\n",
       "    </tr>\n",
       "    <tr>\n",
       "      <th>West</th>\n",
       "      <td>2722093</td>\n",
       "      <td>5570820</td>\n",
       "    </tr>\n",
       "  </tbody>\n",
       "</table>\n",
       "</div>"
      ],
      "text/plain": [
       "spending_flag  High spender  Low spender\n",
       "regions                                 \n",
       "Midwest             2497034      5100291\n",
       "Northeast           1875170      3847566\n",
       "South               3549625      7242260\n",
       "West                2722093      5570820"
      ]
     },
     "execution_count": 13,
     "metadata": {},
     "output_type": "execute_result"
    }
   ],
   "source": [
    "crosstab"
   ]
  },
  {
   "cell_type": "markdown",
   "id": "cc466414",
   "metadata": {},
   "source": [
    "#### Each region has very similar proportions of high vs. low spenders (around 33% high spenders and 67% low spenders)"
   ]
  },
  {
   "cell_type": "markdown",
   "id": "a74a9340",
   "metadata": {},
   "source": [
    "## Creating an exclusion flag for customers with under 5 orders"
   ]
  },
  {
   "cell_type": "code",
   "execution_count": 14,
   "id": "ec8a255f",
   "metadata": {},
   "outputs": [],
   "source": [
    "# To create an activity flag based on max_order\n",
    "df.loc[df['max_order']>=5,'activity']='normal'\n",
    "df.loc[df['max_order']<5,'activity']='low'"
   ]
  },
  {
   "cell_type": "code",
   "execution_count": 15,
   "id": "a355c820",
   "metadata": {},
   "outputs": [
    {
     "data": {
      "text/plain": [
       "normal    30964564\n",
       "low        1440295\n",
       "Name: activity, dtype: int64"
      ]
     },
     "execution_count": 15,
     "metadata": {},
     "output_type": "execute_result"
    }
   ],
   "source": [
    "# To check the value counts in the activity flag column\n",
    "df['activity'].value_counts()"
   ]
  },
  {
   "cell_type": "code",
   "execution_count": 16,
   "id": "e2903173",
   "metadata": {},
   "outputs": [
    {
     "data": {
      "text/plain": [
       "32404859"
      ]
     },
     "execution_count": 16,
     "metadata": {},
     "output_type": "execute_result"
    }
   ],
   "source": [
    "# To check that the length of the activity column matches the dataframe\n",
    "len(df['activity'])"
   ]
  },
  {
   "cell_type": "code",
   "execution_count": 17,
   "id": "42e2b442",
   "metadata": {},
   "outputs": [],
   "source": [
    "# To create a dataframe containing only low activity customers\n",
    "df_low=df[df['activity']=='low']"
   ]
  },
  {
   "cell_type": "code",
   "execution_count": 18,
   "id": "214c5fa6",
   "metadata": {},
   "outputs": [
    {
     "data": {
      "text/html": [
       "<div>\n",
       "<style scoped>\n",
       "    .dataframe tbody tr th:only-of-type {\n",
       "        vertical-align: middle;\n",
       "    }\n",
       "\n",
       "    .dataframe tbody tr th {\n",
       "        vertical-align: top;\n",
       "    }\n",
       "\n",
       "    .dataframe thead th {\n",
       "        text-align: right;\n",
       "    }\n",
       "</style>\n",
       "<table border=\"1\" class=\"dataframe\">\n",
       "  <thead>\n",
       "    <tr style=\"text-align: right;\">\n",
       "      <th></th>\n",
       "      <th>order_id</th>\n",
       "      <th>user_id</th>\n",
       "      <th>order_number</th>\n",
       "      <th>order_day_of_week</th>\n",
       "      <th>hour_order_placed</th>\n",
       "      <th>days_since_prior_order</th>\n",
       "      <th>new_customer</th>\n",
       "      <th>product_id</th>\n",
       "      <th>add_to_cart_order</th>\n",
       "      <th>reordered</th>\n",
       "      <th>...</th>\n",
       "      <th>last_name</th>\n",
       "      <th>gender</th>\n",
       "      <th>state</th>\n",
       "      <th>age</th>\n",
       "      <th>date_joined</th>\n",
       "      <th>dependants</th>\n",
       "      <th>fam_status</th>\n",
       "      <th>income</th>\n",
       "      <th>regions</th>\n",
       "      <th>activity</th>\n",
       "    </tr>\n",
       "  </thead>\n",
       "  <tbody>\n",
       "    <tr>\n",
       "      <th>1510</th>\n",
       "      <td>520620</td>\n",
       "      <td>120</td>\n",
       "      <td>1</td>\n",
       "      <td>3</td>\n",
       "      <td>11</td>\n",
       "      <td>NaN</td>\n",
       "      <td>True</td>\n",
       "      <td>196</td>\n",
       "      <td>2</td>\n",
       "      <td>0</td>\n",
       "      <td>...</td>\n",
       "      <td>Rich</td>\n",
       "      <td>Female</td>\n",
       "      <td>Kentucky</td>\n",
       "      <td>54</td>\n",
       "      <td>3/2/2017</td>\n",
       "      <td>2</td>\n",
       "      <td>married</td>\n",
       "      <td>99219</td>\n",
       "      <td>South</td>\n",
       "      <td>low</td>\n",
       "    </tr>\n",
       "    <tr>\n",
       "      <th>1511</th>\n",
       "      <td>3273029</td>\n",
       "      <td>120</td>\n",
       "      <td>3</td>\n",
       "      <td>2</td>\n",
       "      <td>8</td>\n",
       "      <td>19.0</td>\n",
       "      <td>False</td>\n",
       "      <td>196</td>\n",
       "      <td>2</td>\n",
       "      <td>1</td>\n",
       "      <td>...</td>\n",
       "      <td>Rich</td>\n",
       "      <td>Female</td>\n",
       "      <td>Kentucky</td>\n",
       "      <td>54</td>\n",
       "      <td>3/2/2017</td>\n",
       "      <td>2</td>\n",
       "      <td>married</td>\n",
       "      <td>99219</td>\n",
       "      <td>South</td>\n",
       "      <td>low</td>\n",
       "    </tr>\n",
       "    <tr>\n",
       "      <th>1512</th>\n",
       "      <td>520620</td>\n",
       "      <td>120</td>\n",
       "      <td>1</td>\n",
       "      <td>3</td>\n",
       "      <td>11</td>\n",
       "      <td>NaN</td>\n",
       "      <td>True</td>\n",
       "      <td>46149</td>\n",
       "      <td>1</td>\n",
       "      <td>0</td>\n",
       "      <td>...</td>\n",
       "      <td>Rich</td>\n",
       "      <td>Female</td>\n",
       "      <td>Kentucky</td>\n",
       "      <td>54</td>\n",
       "      <td>3/2/2017</td>\n",
       "      <td>2</td>\n",
       "      <td>married</td>\n",
       "      <td>99219</td>\n",
       "      <td>South</td>\n",
       "      <td>low</td>\n",
       "    </tr>\n",
       "    <tr>\n",
       "      <th>1513</th>\n",
       "      <td>3273029</td>\n",
       "      <td>120</td>\n",
       "      <td>3</td>\n",
       "      <td>2</td>\n",
       "      <td>8</td>\n",
       "      <td>19.0</td>\n",
       "      <td>False</td>\n",
       "      <td>46149</td>\n",
       "      <td>1</td>\n",
       "      <td>1</td>\n",
       "      <td>...</td>\n",
       "      <td>Rich</td>\n",
       "      <td>Female</td>\n",
       "      <td>Kentucky</td>\n",
       "      <td>54</td>\n",
       "      <td>3/2/2017</td>\n",
       "      <td>2</td>\n",
       "      <td>married</td>\n",
       "      <td>99219</td>\n",
       "      <td>South</td>\n",
       "      <td>low</td>\n",
       "    </tr>\n",
       "    <tr>\n",
       "      <th>1514</th>\n",
       "      <td>520620</td>\n",
       "      <td>120</td>\n",
       "      <td>1</td>\n",
       "      <td>3</td>\n",
       "      <td>11</td>\n",
       "      <td>NaN</td>\n",
       "      <td>True</td>\n",
       "      <td>26348</td>\n",
       "      <td>3</td>\n",
       "      <td>0</td>\n",
       "      <td>...</td>\n",
       "      <td>Rich</td>\n",
       "      <td>Female</td>\n",
       "      <td>Kentucky</td>\n",
       "      <td>54</td>\n",
       "      <td>3/2/2017</td>\n",
       "      <td>2</td>\n",
       "      <td>married</td>\n",
       "      <td>99219</td>\n",
       "      <td>South</td>\n",
       "      <td>low</td>\n",
       "    </tr>\n",
       "  </tbody>\n",
       "</table>\n",
       "<p>5 rows × 33 columns</p>\n",
       "</div>"
      ],
      "text/plain": [
       "      order_id  user_id  order_number  order_day_of_week  hour_order_placed  \\\n",
       "1510    520620      120             1                  3                 11   \n",
       "1511   3273029      120             3                  2                  8   \n",
       "1512    520620      120             1                  3                 11   \n",
       "1513   3273029      120             3                  2                  8   \n",
       "1514    520620      120             1                  3                 11   \n",
       "\n",
       "      days_since_prior_order  new_customer  product_id  add_to_cart_order  \\\n",
       "1510                     NaN          True         196                  2   \n",
       "1511                    19.0         False         196                  2   \n",
       "1512                     NaN          True       46149                  1   \n",
       "1513                    19.0         False       46149                  1   \n",
       "1514                     NaN          True       26348                  3   \n",
       "\n",
       "      reordered  ... last_name  gender     state  age date_joined dependants  \\\n",
       "1510          0  ...      Rich  Female  Kentucky   54    3/2/2017          2   \n",
       "1511          1  ...      Rich  Female  Kentucky   54    3/2/2017          2   \n",
       "1512          0  ...      Rich  Female  Kentucky   54    3/2/2017          2   \n",
       "1513          1  ...      Rich  Female  Kentucky   54    3/2/2017          2   \n",
       "1514          0  ...      Rich  Female  Kentucky   54    3/2/2017          2   \n",
       "\n",
       "     fam_status  income regions activity  \n",
       "1510    married   99219   South      low  \n",
       "1511    married   99219   South      low  \n",
       "1512    married   99219   South      low  \n",
       "1513    married   99219   South      low  \n",
       "1514    married   99219   South      low  \n",
       "\n",
       "[5 rows x 33 columns]"
      ]
     },
     "execution_count": 18,
     "metadata": {},
     "output_type": "execute_result"
    }
   ],
   "source": [
    "df_low.head()"
   ]
  },
  {
   "cell_type": "code",
   "execution_count": 19,
   "id": "8e150ccf",
   "metadata": {},
   "outputs": [
    {
     "data": {
      "text/plain": [
       "(1440295, 33)"
      ]
     },
     "execution_count": 19,
     "metadata": {},
     "output_type": "execute_result"
    }
   ],
   "source": [
    "df_low.shape"
   ]
  },
  {
   "cell_type": "code",
   "execution_count": 20,
   "id": "aa462e8a",
   "metadata": {},
   "outputs": [],
   "source": [
    "# Exporting low activity sample as a pkl file\n",
    "df_low.to_pickle(os.path.join(path,'Data','Prepared Data','low_activity_user_data.pkl'))"
   ]
  },
  {
   "cell_type": "code",
   "execution_count": 21,
   "id": "5659dbf3",
   "metadata": {},
   "outputs": [],
   "source": [
    "# creating a dataframe with only normal activity customers\n",
    "df2=df[df['activity']=='normal']"
   ]
  },
  {
   "cell_type": "code",
   "execution_count": 22,
   "id": "cd5db9dc",
   "metadata": {},
   "outputs": [
    {
     "data": {
      "text/html": [
       "<div>\n",
       "<style scoped>\n",
       "    .dataframe tbody tr th:only-of-type {\n",
       "        vertical-align: middle;\n",
       "    }\n",
       "\n",
       "    .dataframe tbody tr th {\n",
       "        vertical-align: top;\n",
       "    }\n",
       "\n",
       "    .dataframe thead th {\n",
       "        text-align: right;\n",
       "    }\n",
       "</style>\n",
       "<table border=\"1\" class=\"dataframe\">\n",
       "  <thead>\n",
       "    <tr style=\"text-align: right;\">\n",
       "      <th></th>\n",
       "      <th>order_id</th>\n",
       "      <th>user_id</th>\n",
       "      <th>order_number</th>\n",
       "      <th>order_day_of_week</th>\n",
       "      <th>hour_order_placed</th>\n",
       "      <th>days_since_prior_order</th>\n",
       "      <th>new_customer</th>\n",
       "      <th>product_id</th>\n",
       "      <th>add_to_cart_order</th>\n",
       "      <th>reordered</th>\n",
       "      <th>...</th>\n",
       "      <th>last_name</th>\n",
       "      <th>gender</th>\n",
       "      <th>state</th>\n",
       "      <th>age</th>\n",
       "      <th>date_joined</th>\n",
       "      <th>dependants</th>\n",
       "      <th>fam_status</th>\n",
       "      <th>income</th>\n",
       "      <th>regions</th>\n",
       "      <th>activity</th>\n",
       "    </tr>\n",
       "  </thead>\n",
       "  <tbody>\n",
       "    <tr>\n",
       "      <th>0</th>\n",
       "      <td>2539329</td>\n",
       "      <td>1</td>\n",
       "      <td>1</td>\n",
       "      <td>2</td>\n",
       "      <td>8</td>\n",
       "      <td>NaN</td>\n",
       "      <td>True</td>\n",
       "      <td>196</td>\n",
       "      <td>1</td>\n",
       "      <td>0</td>\n",
       "      <td>...</td>\n",
       "      <td>Nguyen</td>\n",
       "      <td>Female</td>\n",
       "      <td>Alabama</td>\n",
       "      <td>31</td>\n",
       "      <td>2/17/2019</td>\n",
       "      <td>3</td>\n",
       "      <td>married</td>\n",
       "      <td>40423</td>\n",
       "      <td>South</td>\n",
       "      <td>normal</td>\n",
       "    </tr>\n",
       "    <tr>\n",
       "      <th>1</th>\n",
       "      <td>2398795</td>\n",
       "      <td>1</td>\n",
       "      <td>2</td>\n",
       "      <td>3</td>\n",
       "      <td>7</td>\n",
       "      <td>15.0</td>\n",
       "      <td>False</td>\n",
       "      <td>196</td>\n",
       "      <td>1</td>\n",
       "      <td>1</td>\n",
       "      <td>...</td>\n",
       "      <td>Nguyen</td>\n",
       "      <td>Female</td>\n",
       "      <td>Alabama</td>\n",
       "      <td>31</td>\n",
       "      <td>2/17/2019</td>\n",
       "      <td>3</td>\n",
       "      <td>married</td>\n",
       "      <td>40423</td>\n",
       "      <td>South</td>\n",
       "      <td>normal</td>\n",
       "    </tr>\n",
       "    <tr>\n",
       "      <th>2</th>\n",
       "      <td>473747</td>\n",
       "      <td>1</td>\n",
       "      <td>3</td>\n",
       "      <td>3</td>\n",
       "      <td>12</td>\n",
       "      <td>21.0</td>\n",
       "      <td>False</td>\n",
       "      <td>196</td>\n",
       "      <td>1</td>\n",
       "      <td>1</td>\n",
       "      <td>...</td>\n",
       "      <td>Nguyen</td>\n",
       "      <td>Female</td>\n",
       "      <td>Alabama</td>\n",
       "      <td>31</td>\n",
       "      <td>2/17/2019</td>\n",
       "      <td>3</td>\n",
       "      <td>married</td>\n",
       "      <td>40423</td>\n",
       "      <td>South</td>\n",
       "      <td>normal</td>\n",
       "    </tr>\n",
       "    <tr>\n",
       "      <th>3</th>\n",
       "      <td>2254736</td>\n",
       "      <td>1</td>\n",
       "      <td>4</td>\n",
       "      <td>4</td>\n",
       "      <td>7</td>\n",
       "      <td>29.0</td>\n",
       "      <td>False</td>\n",
       "      <td>196</td>\n",
       "      <td>1</td>\n",
       "      <td>1</td>\n",
       "      <td>...</td>\n",
       "      <td>Nguyen</td>\n",
       "      <td>Female</td>\n",
       "      <td>Alabama</td>\n",
       "      <td>31</td>\n",
       "      <td>2/17/2019</td>\n",
       "      <td>3</td>\n",
       "      <td>married</td>\n",
       "      <td>40423</td>\n",
       "      <td>South</td>\n",
       "      <td>normal</td>\n",
       "    </tr>\n",
       "    <tr>\n",
       "      <th>4</th>\n",
       "      <td>431534</td>\n",
       "      <td>1</td>\n",
       "      <td>5</td>\n",
       "      <td>4</td>\n",
       "      <td>15</td>\n",
       "      <td>28.0</td>\n",
       "      <td>False</td>\n",
       "      <td>196</td>\n",
       "      <td>1</td>\n",
       "      <td>1</td>\n",
       "      <td>...</td>\n",
       "      <td>Nguyen</td>\n",
       "      <td>Female</td>\n",
       "      <td>Alabama</td>\n",
       "      <td>31</td>\n",
       "      <td>2/17/2019</td>\n",
       "      <td>3</td>\n",
       "      <td>married</td>\n",
       "      <td>40423</td>\n",
       "      <td>South</td>\n",
       "      <td>normal</td>\n",
       "    </tr>\n",
       "  </tbody>\n",
       "</table>\n",
       "<p>5 rows × 33 columns</p>\n",
       "</div>"
      ],
      "text/plain": [
       "   order_id  user_id  order_number  order_day_of_week  hour_order_placed  \\\n",
       "0   2539329        1             1                  2                  8   \n",
       "1   2398795        1             2                  3                  7   \n",
       "2    473747        1             3                  3                 12   \n",
       "3   2254736        1             4                  4                  7   \n",
       "4    431534        1             5                  4                 15   \n",
       "\n",
       "   days_since_prior_order  new_customer  product_id  add_to_cart_order  \\\n",
       "0                     NaN          True         196                  1   \n",
       "1                    15.0         False         196                  1   \n",
       "2                    21.0         False         196                  1   \n",
       "3                    29.0         False         196                  1   \n",
       "4                    28.0         False         196                  1   \n",
       "\n",
       "   reordered  ... last_name  gender    state  age date_joined dependants  \\\n",
       "0          0  ...    Nguyen  Female  Alabama   31   2/17/2019          3   \n",
       "1          1  ...    Nguyen  Female  Alabama   31   2/17/2019          3   \n",
       "2          1  ...    Nguyen  Female  Alabama   31   2/17/2019          3   \n",
       "3          1  ...    Nguyen  Female  Alabama   31   2/17/2019          3   \n",
       "4          1  ...    Nguyen  Female  Alabama   31   2/17/2019          3   \n",
       "\n",
       "  fam_status  income regions activity  \n",
       "0    married   40423   South   normal  \n",
       "1    married   40423   South   normal  \n",
       "2    married   40423   South   normal  \n",
       "3    married   40423   South   normal  \n",
       "4    married   40423   South   normal  \n",
       "\n",
       "[5 rows x 33 columns]"
      ]
     },
     "execution_count": 22,
     "metadata": {},
     "output_type": "execute_result"
    }
   ],
   "source": [
    "df2.head()"
   ]
  },
  {
   "cell_type": "code",
   "execution_count": 23,
   "id": "d51c269e",
   "metadata": {},
   "outputs": [
    {
     "data": {
      "text/plain": [
       "(30964564, 33)"
      ]
     },
     "execution_count": 23,
     "metadata": {},
     "output_type": "execute_result"
    }
   ],
   "source": [
    "df2.shape"
   ]
  },
  {
   "cell_type": "markdown",
   "id": "472cbf04",
   "metadata": {},
   "source": [
    "## Creating customer profiling variables"
   ]
  },
  {
   "cell_type": "code",
   "execution_count": 24,
   "id": "b8fd2759",
   "metadata": {},
   "outputs": [
    {
     "data": {
      "text/plain": [
       "Index(['order_id', 'user_id', 'order_number', 'order_day_of_week',\n",
       "       'hour_order_placed', 'days_since_prior_order', 'new_customer',\n",
       "       'product_id', 'add_to_cart_order', 'reordered', 'product_name',\n",
       "       'aisle_id', 'department_id', 'prices', 'price_range', 'busiest_days',\n",
       "       'busiest_period_of_day', 'max_order', 'loyalty_flag', 'spending_flag',\n",
       "       'avg_days_since_last_order', 'order_frequency', 'first_name',\n",
       "       'last_name', 'gender', 'state', 'age', 'date_joined', 'dependants',\n",
       "       'fam_status', 'income', 'regions', 'activity'],\n",
       "      dtype='object')"
      ]
     },
     "execution_count": 24,
     "metadata": {},
     "output_type": "execute_result"
    }
   ],
   "source": [
    "df2.columns"
   ]
  },
  {
   "cell_type": "markdown",
   "id": "22e9d2a9",
   "metadata": {},
   "source": [
    "### Family status"
   ]
  },
  {
   "cell_type": "code",
   "execution_count": 25,
   "id": "bd23597a",
   "metadata": {
    "collapsed": true
   },
   "outputs": [
    {
     "name": "stderr",
     "output_type": "stream",
     "text": [
      "C:\\Users\\Shelb\\AppData\\Local\\Temp\\ipykernel_17524\\2531846769.py:3: SettingWithCopyWarning: \n",
      "A value is trying to be set on a copy of a slice from a DataFrame.\n",
      "Try using .loc[row_indexer,col_indexer] = value instead\n",
      "\n",
      "See the caveats in the documentation: https://pandas.pydata.org/pandas-docs/stable/user_guide/indexing.html#returning-a-view-versus-a-copy\n",
      "  df2.loc[(df['department_id']==18)&(df['dependants']>0),'family_status']='family with young children'\n"
     ]
    }
   ],
   "source": [
    "# To create a family status flag to find parents of young children, parents of older children, and people with no children\n",
    "# Department id # 18 is designated 'babies' and will be used here to identify families with young children\n",
    "df2.loc[(df['department_id']==18)&(df['dependants']>0),'family_status']='family with young children'\n",
    "df2.loc[(df['department_id']!=18)&(df['dependants']>0),'family_status']='family with older children'\n",
    "df2.loc[df['dependants']==0,'family_status']='no children'"
   ]
  },
  {
   "cell_type": "code",
   "execution_count": 26,
   "id": "bc5a16f3",
   "metadata": {},
   "outputs": [
    {
     "data": {
      "text/plain": [
       "family with older children    22917819\n",
       "no children                    7739681\n",
       "family with young children      307064\n",
       "Name: family_status, dtype: int64"
      ]
     },
     "execution_count": 26,
     "metadata": {},
     "output_type": "execute_result"
    }
   ],
   "source": [
    "df2['family_status'].value_counts()"
   ]
  },
  {
   "cell_type": "code",
   "execution_count": 27,
   "id": "cb526a37",
   "metadata": {},
   "outputs": [
    {
     "data": {
      "text/plain": [
       "30964564"
      ]
     },
     "execution_count": 27,
     "metadata": {},
     "output_type": "execute_result"
    }
   ],
   "source": [
    "len(df2['family_status'])"
   ]
  },
  {
   "cell_type": "code",
   "execution_count": 28,
   "id": "2c2d94bc",
   "metadata": {},
   "outputs": [
    {
     "data": {
      "text/plain": [
       "30964564"
      ]
     },
     "execution_count": 28,
     "metadata": {},
     "output_type": "execute_result"
    }
   ],
   "source": [
    "len(df2)"
   ]
  },
  {
   "cell_type": "markdown",
   "id": "30c89598",
   "metadata": {},
   "source": [
    "### Vegan status"
   ]
  },
  {
   "cell_type": "code",
   "execution_count": 29,
   "id": "ca635b8c",
   "metadata": {},
   "outputs": [],
   "source": [
    "# To create logic for a vegan flag\n",
    "# Department numbers 12, 16 and 20 are meat and seafood, dairy and eggs, and deli respectively and are not vegan\n",
    "result=[]\n",
    "\n",
    "for value in df2['department_id']:\n",
    "    if value in (12,16,20):\n",
    "        result.append('not vegan')\n",
    "    else:\n",
    "        result.append('vegan')"
   ]
  },
  {
   "cell_type": "code",
   "execution_count": 30,
   "id": "aa440159",
   "metadata": {
    "collapsed": true
   },
   "outputs": [
    {
     "name": "stderr",
     "output_type": "stream",
     "text": [
      "C:\\Users\\Shelb\\AppData\\Local\\Temp\\ipykernel_17524\\2869749955.py:1: SettingWithCopyWarning: \n",
      "A value is trying to be set on a copy of a slice from a DataFrame.\n",
      "Try using .loc[row_indexer,col_indexer] = value instead\n",
      "\n",
      "See the caveats in the documentation: https://pandas.pydata.org/pandas-docs/stable/user_guide/indexing.html#returning-a-view-versus-a-copy\n",
      "  df2['vegan_status']=result\n"
     ]
    }
   ],
   "source": [
    "df2['vegan_status']=result"
   ]
  },
  {
   "cell_type": "code",
   "execution_count": 31,
   "id": "43a14dc5",
   "metadata": {},
   "outputs": [
    {
     "data": {
      "text/plain": [
       "30964564"
      ]
     },
     "execution_count": 31,
     "metadata": {},
     "output_type": "execute_result"
    }
   ],
   "source": [
    "len(df2['vegan_status'])"
   ]
  },
  {
   "cell_type": "code",
   "execution_count": 32,
   "id": "56ccae29",
   "metadata": {},
   "outputs": [
    {
     "data": {
      "text/plain": [
       "vegan        24108767\n",
       "not vegan     6855797\n",
       "Name: vegan_status, dtype: int64"
      ]
     },
     "execution_count": 32,
     "metadata": {},
     "output_type": "execute_result"
    }
   ],
   "source": [
    "df2['vegan_status'].value_counts()"
   ]
  },
  {
   "cell_type": "markdown",
   "id": "03e5ba9b",
   "metadata": {},
   "source": [
    "### Age categories"
   ]
  },
  {
   "cell_type": "code",
   "execution_count": 33,
   "id": "d534d853",
   "metadata": {
    "collapsed": true
   },
   "outputs": [
    {
     "name": "stderr",
     "output_type": "stream",
     "text": [
      "C:\\Users\\Shelb\\AppData\\Local\\Temp\\ipykernel_17524\\613781678.py:2: SettingWithCopyWarning: \n",
      "A value is trying to be set on a copy of a slice from a DataFrame.\n",
      "Try using .loc[row_indexer,col_indexer] = value instead\n",
      "\n",
      "See the caveats in the documentation: https://pandas.pydata.org/pandas-docs/stable/user_guide/indexing.html#returning-a-view-versus-a-copy\n",
      "  df2.loc[(df2['age']>=18)&(df2['age']<=29),'age_category']='college age'\n"
     ]
    }
   ],
   "source": [
    "# To create a column grouping age into categories\n",
    "df2.loc[(df2['age']>=18)&(df2['age']<=29),'age_category']='college age'\n",
    "df2.loc[(df2['age']>=30)&(df2['age']<=39),'age_category']='young adult'\n",
    "df2.loc[(df2['age']>=40)&(df2['age']<=49),'age_category']='middle age adult'\n",
    "df2.loc[(df2['age']>=50)&(df2['age']<=59),'age_category']='late career adult'\n",
    "df2.loc[df2['age']>60,'age_category']='senior'"
   ]
  },
  {
   "cell_type": "code",
   "execution_count": 34,
   "id": "ce9e0304",
   "metadata": {},
   "outputs": [
    {
     "data": {
      "text/plain": [
       "30964564"
      ]
     },
     "execution_count": 34,
     "metadata": {},
     "output_type": "execute_result"
    }
   ],
   "source": [
    "len(df2['age_category'])"
   ]
  },
  {
   "cell_type": "code",
   "execution_count": 35,
   "id": "16f68ca3",
   "metadata": {},
   "outputs": [
    {
     "data": {
      "text/plain": [
       "senior               10112607\n",
       "college age           5817603\n",
       "middle age adult      4883179\n",
       "young adult           4847507\n",
       "late career adult     4841771\n",
       "Name: age_category, dtype: int64"
      ]
     },
     "execution_count": 35,
     "metadata": {},
     "output_type": "execute_result"
    }
   ],
   "source": [
    "df2['age_category'].value_counts()"
   ]
  },
  {
   "cell_type": "markdown",
   "id": "53683e39",
   "metadata": {},
   "source": [
    "## Grouping and aggregating"
   ]
  },
  {
   "cell_type": "code",
   "execution_count": 36,
   "id": "df639297",
   "metadata": {
    "collapsed": true
   },
   "outputs": [
    {
     "name": "stderr",
     "output_type": "stream",
     "text": [
      "C:\\Users\\Shelb\\AppData\\Local\\Temp\\ipykernel_17524\\3211801858.py:3: SettingWithCopyWarning: \n",
      "A value is trying to be set on a copy of a slice from a DataFrame.\n",
      "Try using .loc[row_indexer,col_indexer] = value instead\n",
      "\n",
      "See the caveats in the documentation: https://pandas.pydata.org/pandas-docs/stable/user_guide/indexing.html#returning-a-view-versus-a-copy\n",
      "  df2['min_usage_frequency']=df2.groupby(['user_id'])['days_since_prior_order'].transform(np.max)\n"
     ]
    }
   ],
   "source": [
    "# Creating a min_useage_frequency column based on days_since_prior_order\n",
    "# Outputs displayed in _useage_frequency_columns are the most days the customer has gone since their last instacart order\n",
    "df2['min_usage_frequency']=df2.groupby(['user_id'])['days_since_prior_order'].transform(np.max)"
   ]
  },
  {
   "cell_type": "code",
   "execution_count": 37,
   "id": "0bec1e22",
   "metadata": {
    "collapsed": true
   },
   "outputs": [
    {
     "name": "stderr",
     "output_type": "stream",
     "text": [
      "C:\\Users\\Shelb\\AppData\\Local\\Temp\\ipykernel_17524\\2243910198.py:2: SettingWithCopyWarning: \n",
      "A value is trying to be set on a copy of a slice from a DataFrame.\n",
      "Try using .loc[row_indexer,col_indexer] = value instead\n",
      "\n",
      "See the caveats in the documentation: https://pandas.pydata.org/pandas-docs/stable/user_guide/indexing.html#returning-a-view-versus-a-copy\n",
      "  df2['min_usage_frequency']=df2['min_usage_frequency'].astype('int32')\n"
     ]
    }
   ],
   "source": [
    "# To change the data type to one which will take up less memory space\n",
    "df2['min_usage_frequency']=df2['min_usage_frequency'].astype('int32')"
   ]
  },
  {
   "cell_type": "code",
   "execution_count": 38,
   "id": "071a182b",
   "metadata": {},
   "outputs": [
    {
     "data": {
      "text/plain": [
       "30964564"
      ]
     },
     "execution_count": 38,
     "metadata": {},
     "output_type": "execute_result"
    }
   ],
   "source": [
    "# To check the length of the output\n",
    "len(df2['min_usage_frequency'])"
   ]
  },
  {
   "cell_type": "code",
   "execution_count": 39,
   "id": "f69c0af5",
   "metadata": {
    "collapsed": true
   },
   "outputs": [
    {
     "name": "stderr",
     "output_type": "stream",
     "text": [
      "C:\\Users\\Shelb\\AppData\\Local\\Temp\\ipykernel_17524\\461113080.py:1: SettingWithCopyWarning: \n",
      "A value is trying to be set on a copy of a slice from a DataFrame.\n",
      "Try using .loc[row_indexer,col_indexer] = value instead\n",
      "\n",
      "See the caveats in the documentation: https://pandas.pydata.org/pandas-docs/stable/user_guide/indexing.html#returning-a-view-versus-a-copy\n",
      "  df2['max_usage_frequency']=df2.groupby(['user_id'])['days_since_prior_order'].transform(np.min)\n"
     ]
    }
   ],
   "source": [
    "df2['max_usage_frequency']=df2.groupby(['user_id'])['days_since_prior_order'].transform(np.min)"
   ]
  },
  {
   "cell_type": "code",
   "execution_count": 40,
   "id": "79b00c1b",
   "metadata": {
    "collapsed": true
   },
   "outputs": [
    {
     "name": "stderr",
     "output_type": "stream",
     "text": [
      "C:\\Users\\Shelb\\AppData\\Local\\Temp\\ipykernel_17524\\1068895488.py:1: SettingWithCopyWarning: \n",
      "A value is trying to be set on a copy of a slice from a DataFrame.\n",
      "Try using .loc[row_indexer,col_indexer] = value instead\n",
      "\n",
      "See the caveats in the documentation: https://pandas.pydata.org/pandas-docs/stable/user_guide/indexing.html#returning-a-view-versus-a-copy\n",
      "  df2['max_usage_frequency']=df2['max_usage_frequency'].astype('int32')\n"
     ]
    }
   ],
   "source": [
    "df2['max_usage_frequency']=df2['max_usage_frequency'].astype('int32')"
   ]
  },
  {
   "cell_type": "code",
   "execution_count": 41,
   "id": "07617566",
   "metadata": {
    "collapsed": true
   },
   "outputs": [
    {
     "data": {
      "text/plain": [
       "30964564"
      ]
     },
     "execution_count": 41,
     "metadata": {},
     "output_type": "execute_result"
    }
   ],
   "source": [
    "len(df2['max_usage_frequency'])"
   ]
  },
  {
   "cell_type": "code",
   "execution_count": 42,
   "id": "e219f1a6",
   "metadata": {
    "collapsed": true
   },
   "outputs": [
    {
     "name": "stderr",
     "output_type": "stream",
     "text": [
      "C:\\Users\\Shelb\\AppData\\Local\\Temp\\ipykernel_17524\\2260905509.py:1: SettingWithCopyWarning: \n",
      "A value is trying to be set on a copy of a slice from a DataFrame.\n",
      "Try using .loc[row_indexer,col_indexer] = value instead\n",
      "\n",
      "See the caveats in the documentation: https://pandas.pydata.org/pandas-docs/stable/user_guide/indexing.html#returning-a-view-versus-a-copy\n",
      "  df2['average_usage_frequency']=df2.groupby(['user_id'])['days_since_prior_order'].transform(np.mean)\n"
     ]
    }
   ],
   "source": [
    "df2['average_usage_frequency']=df2.groupby(['user_id'])['days_since_prior_order'].transform(np.mean)"
   ]
  },
  {
   "cell_type": "code",
   "execution_count": 43,
   "id": "a11fa46d",
   "metadata": {
    "collapsed": true
   },
   "outputs": [
    {
     "name": "stderr",
     "output_type": "stream",
     "text": [
      "C:\\Users\\Shelb\\AppData\\Local\\Temp\\ipykernel_17524\\1259258902.py:1: SettingWithCopyWarning: \n",
      "A value is trying to be set on a copy of a slice from a DataFrame.\n",
      "Try using .loc[row_indexer,col_indexer] = value instead\n",
      "\n",
      "See the caveats in the documentation: https://pandas.pydata.org/pandas-docs/stable/user_guide/indexing.html#returning-a-view-versus-a-copy\n",
      "  df2['average_usage_frequency']=df2['average_usage_frequency'].astype('int32')\n"
     ]
    }
   ],
   "source": [
    "df2['average_usage_frequency']=df2['average_usage_frequency'].astype('int32')"
   ]
  },
  {
   "cell_type": "code",
   "execution_count": 44,
   "id": "53ad5d42",
   "metadata": {},
   "outputs": [
    {
     "data": {
      "text/plain": [
       "30964564"
      ]
     },
     "execution_count": 44,
     "metadata": {},
     "output_type": "execute_result"
    }
   ],
   "source": [
    "len(df2['average_usage_frequency'])"
   ]
  },
  {
   "cell_type": "code",
   "execution_count": 45,
   "id": "001fa2cd",
   "metadata": {},
   "outputs": [
    {
     "data": {
      "text/html": [
       "<div>\n",
       "<style scoped>\n",
       "    .dataframe tbody tr th:only-of-type {\n",
       "        vertical-align: middle;\n",
       "    }\n",
       "\n",
       "    .dataframe tbody tr th {\n",
       "        vertical-align: top;\n",
       "    }\n",
       "\n",
       "    .dataframe thead th {\n",
       "        text-align: right;\n",
       "    }\n",
       "</style>\n",
       "<table border=\"1\" class=\"dataframe\">\n",
       "  <thead>\n",
       "    <tr style=\"text-align: right;\">\n",
       "      <th></th>\n",
       "      <th>order_id</th>\n",
       "      <th>user_id</th>\n",
       "      <th>order_number</th>\n",
       "      <th>order_day_of_week</th>\n",
       "      <th>hour_order_placed</th>\n",
       "      <th>days_since_prior_order</th>\n",
       "      <th>new_customer</th>\n",
       "      <th>product_id</th>\n",
       "      <th>add_to_cart_order</th>\n",
       "      <th>reordered</th>\n",
       "      <th>...</th>\n",
       "      <th>fam_status</th>\n",
       "      <th>income</th>\n",
       "      <th>regions</th>\n",
       "      <th>activity</th>\n",
       "      <th>family_status</th>\n",
       "      <th>vegan_status</th>\n",
       "      <th>age_category</th>\n",
       "      <th>min_usage_frequency</th>\n",
       "      <th>max_usage_frequency</th>\n",
       "      <th>average_usage_frequency</th>\n",
       "    </tr>\n",
       "  </thead>\n",
       "  <tbody>\n",
       "    <tr>\n",
       "      <th>0</th>\n",
       "      <td>2539329</td>\n",
       "      <td>1</td>\n",
       "      <td>1</td>\n",
       "      <td>2</td>\n",
       "      <td>8</td>\n",
       "      <td>NaN</td>\n",
       "      <td>True</td>\n",
       "      <td>196</td>\n",
       "      <td>1</td>\n",
       "      <td>0</td>\n",
       "      <td>...</td>\n",
       "      <td>married</td>\n",
       "      <td>40423</td>\n",
       "      <td>South</td>\n",
       "      <td>normal</td>\n",
       "      <td>family with older children</td>\n",
       "      <td>vegan</td>\n",
       "      <td>young adult</td>\n",
       "      <td>30</td>\n",
       "      <td>0</td>\n",
       "      <td>20</td>\n",
       "    </tr>\n",
       "    <tr>\n",
       "      <th>1</th>\n",
       "      <td>2398795</td>\n",
       "      <td>1</td>\n",
       "      <td>2</td>\n",
       "      <td>3</td>\n",
       "      <td>7</td>\n",
       "      <td>15.0</td>\n",
       "      <td>False</td>\n",
       "      <td>196</td>\n",
       "      <td>1</td>\n",
       "      <td>1</td>\n",
       "      <td>...</td>\n",
       "      <td>married</td>\n",
       "      <td>40423</td>\n",
       "      <td>South</td>\n",
       "      <td>normal</td>\n",
       "      <td>family with older children</td>\n",
       "      <td>vegan</td>\n",
       "      <td>young adult</td>\n",
       "      <td>30</td>\n",
       "      <td>0</td>\n",
       "      <td>20</td>\n",
       "    </tr>\n",
       "    <tr>\n",
       "      <th>2</th>\n",
       "      <td>473747</td>\n",
       "      <td>1</td>\n",
       "      <td>3</td>\n",
       "      <td>3</td>\n",
       "      <td>12</td>\n",
       "      <td>21.0</td>\n",
       "      <td>False</td>\n",
       "      <td>196</td>\n",
       "      <td>1</td>\n",
       "      <td>1</td>\n",
       "      <td>...</td>\n",
       "      <td>married</td>\n",
       "      <td>40423</td>\n",
       "      <td>South</td>\n",
       "      <td>normal</td>\n",
       "      <td>family with older children</td>\n",
       "      <td>vegan</td>\n",
       "      <td>young adult</td>\n",
       "      <td>30</td>\n",
       "      <td>0</td>\n",
       "      <td>20</td>\n",
       "    </tr>\n",
       "    <tr>\n",
       "      <th>3</th>\n",
       "      <td>2254736</td>\n",
       "      <td>1</td>\n",
       "      <td>4</td>\n",
       "      <td>4</td>\n",
       "      <td>7</td>\n",
       "      <td>29.0</td>\n",
       "      <td>False</td>\n",
       "      <td>196</td>\n",
       "      <td>1</td>\n",
       "      <td>1</td>\n",
       "      <td>...</td>\n",
       "      <td>married</td>\n",
       "      <td>40423</td>\n",
       "      <td>South</td>\n",
       "      <td>normal</td>\n",
       "      <td>family with older children</td>\n",
       "      <td>vegan</td>\n",
       "      <td>young adult</td>\n",
       "      <td>30</td>\n",
       "      <td>0</td>\n",
       "      <td>20</td>\n",
       "    </tr>\n",
       "    <tr>\n",
       "      <th>4</th>\n",
       "      <td>431534</td>\n",
       "      <td>1</td>\n",
       "      <td>5</td>\n",
       "      <td>4</td>\n",
       "      <td>15</td>\n",
       "      <td>28.0</td>\n",
       "      <td>False</td>\n",
       "      <td>196</td>\n",
       "      <td>1</td>\n",
       "      <td>1</td>\n",
       "      <td>...</td>\n",
       "      <td>married</td>\n",
       "      <td>40423</td>\n",
       "      <td>South</td>\n",
       "      <td>normal</td>\n",
       "      <td>family with older children</td>\n",
       "      <td>vegan</td>\n",
       "      <td>young adult</td>\n",
       "      <td>30</td>\n",
       "      <td>0</td>\n",
       "      <td>20</td>\n",
       "    </tr>\n",
       "  </tbody>\n",
       "</table>\n",
       "<p>5 rows × 39 columns</p>\n",
       "</div>"
      ],
      "text/plain": [
       "   order_id  user_id  order_number  order_day_of_week  hour_order_placed  \\\n",
       "0   2539329        1             1                  2                  8   \n",
       "1   2398795        1             2                  3                  7   \n",
       "2    473747        1             3                  3                 12   \n",
       "3   2254736        1             4                  4                  7   \n",
       "4    431534        1             5                  4                 15   \n",
       "\n",
       "   days_since_prior_order  new_customer  product_id  add_to_cart_order  \\\n",
       "0                     NaN          True         196                  1   \n",
       "1                    15.0         False         196                  1   \n",
       "2                    21.0         False         196                  1   \n",
       "3                    29.0         False         196                  1   \n",
       "4                    28.0         False         196                  1   \n",
       "\n",
       "   reordered  ... fam_status  income  regions  activity  \\\n",
       "0          0  ...    married   40423    South    normal   \n",
       "1          1  ...    married   40423    South    normal   \n",
       "2          1  ...    married   40423    South    normal   \n",
       "3          1  ...    married   40423    South    normal   \n",
       "4          1  ...    married   40423    South    normal   \n",
       "\n",
       "                family_status vegan_status age_category  min_usage_frequency  \\\n",
       "0  family with older children        vegan  young adult                   30   \n",
       "1  family with older children        vegan  young adult                   30   \n",
       "2  family with older children        vegan  young adult                   30   \n",
       "3  family with older children        vegan  young adult                   30   \n",
       "4  family with older children        vegan  young adult                   30   \n",
       "\n",
       "  max_usage_frequency average_usage_frequency  \n",
       "0                   0                      20  \n",
       "1                   0                      20  \n",
       "2                   0                      20  \n",
       "3                   0                      20  \n",
       "4                   0                      20  \n",
       "\n",
       "[5 rows x 39 columns]"
      ]
     },
     "execution_count": 45,
     "metadata": {},
     "output_type": "execute_result"
    }
   ],
   "source": [
    "df2.head()"
   ]
  },
  {
   "cell_type": "code",
   "execution_count": 46,
   "id": "19568a42",
   "metadata": {
    "collapsed": true
   },
   "outputs": [
    {
     "name": "stderr",
     "output_type": "stream",
     "text": [
      "C:\\Users\\Shelb\\AppData\\Local\\Temp\\ipykernel_17524\\1186780747.py:2: SettingWithCopyWarning: \n",
      "A value is trying to be set on a copy of a slice from a DataFrame.\n",
      "Try using .loc[row_indexer,col_indexer] = value instead\n",
      "\n",
      "See the caveats in the documentation: https://pandas.pydata.org/pandas-docs/stable/user_guide/indexing.html#returning-a-view-versus-a-copy\n",
      "  df2['max_expenditure']=df2.groupby(['user_id'])['prices'].transform(np.max)\n"
     ]
    }
   ],
   "source": [
    "# To create customer expenditure aggregation variables and check the length of each new column\n",
    "df2['max_expenditure']=df2.groupby(['user_id'])['prices'].transform(np.max)"
   ]
  },
  {
   "cell_type": "code",
   "execution_count": 47,
   "id": "5697fd29",
   "metadata": {
    "collapsed": true
   },
   "outputs": [
    {
     "name": "stderr",
     "output_type": "stream",
     "text": [
      "C:\\Users\\Shelb\\AppData\\Local\\Temp\\ipykernel_17524\\3845791414.py:2: SettingWithCopyWarning: \n",
      "A value is trying to be set on a copy of a slice from a DataFrame.\n",
      "Try using .loc[row_indexer,col_indexer] = value instead\n",
      "\n",
      "See the caveats in the documentation: https://pandas.pydata.org/pandas-docs/stable/user_guide/indexing.html#returning-a-view-versus-a-copy\n",
      "  df2['max_expenditure']=df2['max_expenditure'].astype('int32')\n"
     ]
    }
   ],
   "source": [
    "# To change the data type to one which will take up less memory space\n",
    "df2['max_expenditure']=df2['max_expenditure'].astype('int32')"
   ]
  },
  {
   "cell_type": "code",
   "execution_count": 48,
   "id": "64f0c12a",
   "metadata": {},
   "outputs": [
    {
     "data": {
      "text/plain": [
       "30964564"
      ]
     },
     "execution_count": 48,
     "metadata": {},
     "output_type": "execute_result"
    }
   ],
   "source": [
    "len(df2['max_expenditure'])"
   ]
  },
  {
   "cell_type": "code",
   "execution_count": 49,
   "id": "4bafbe01",
   "metadata": {
    "collapsed": true
   },
   "outputs": [
    {
     "name": "stderr",
     "output_type": "stream",
     "text": [
      "C:\\Users\\Shelb\\AppData\\Local\\Temp\\ipykernel_17524\\60051554.py:1: SettingWithCopyWarning: \n",
      "A value is trying to be set on a copy of a slice from a DataFrame.\n",
      "Try using .loc[row_indexer,col_indexer] = value instead\n",
      "\n",
      "See the caveats in the documentation: https://pandas.pydata.org/pandas-docs/stable/user_guide/indexing.html#returning-a-view-versus-a-copy\n",
      "  df2['min_expenditure']=df2.groupby(['user_id'])['prices'].transform(np.min)\n"
     ]
    }
   ],
   "source": [
    "df2['min_expenditure']=df2.groupby(['user_id'])['prices'].transform(np.min)"
   ]
  },
  {
   "cell_type": "code",
   "execution_count": 50,
   "id": "b64e2e14",
   "metadata": {
    "collapsed": true
   },
   "outputs": [
    {
     "name": "stderr",
     "output_type": "stream",
     "text": [
      "C:\\Users\\Shelb\\AppData\\Local\\Temp\\ipykernel_17524\\474183579.py:1: SettingWithCopyWarning: \n",
      "A value is trying to be set on a copy of a slice from a DataFrame.\n",
      "Try using .loc[row_indexer,col_indexer] = value instead\n",
      "\n",
      "See the caveats in the documentation: https://pandas.pydata.org/pandas-docs/stable/user_guide/indexing.html#returning-a-view-versus-a-copy\n",
      "  df2['min_expenditure']=df2['min_expenditure'].astype('int32')\n"
     ]
    }
   ],
   "source": [
    "df2['min_expenditure']=df2['min_expenditure'].astype('int32')"
   ]
  },
  {
   "cell_type": "code",
   "execution_count": 51,
   "id": "9176be91",
   "metadata": {
    "collapsed": true
   },
   "outputs": [
    {
     "data": {
      "text/plain": [
       "30964564"
      ]
     },
     "execution_count": 51,
     "metadata": {},
     "output_type": "execute_result"
    }
   ],
   "source": [
    "len(df2['min_expenditure'])"
   ]
  },
  {
   "cell_type": "code",
   "execution_count": 52,
   "id": "a9e00118",
   "metadata": {
    "collapsed": true
   },
   "outputs": [
    {
     "name": "stderr",
     "output_type": "stream",
     "text": [
      "C:\\Users\\Shelb\\AppData\\Local\\Temp\\ipykernel_17524\\1376841998.py:1: SettingWithCopyWarning: \n",
      "A value is trying to be set on a copy of a slice from a DataFrame.\n",
      "Try using .loc[row_indexer,col_indexer] = value instead\n",
      "\n",
      "See the caveats in the documentation: https://pandas.pydata.org/pandas-docs/stable/user_guide/indexing.html#returning-a-view-versus-a-copy\n",
      "  df2['avg_expenditure']=df2.groupby(['user_id'])['prices'].transform(np.mean)\n"
     ]
    }
   ],
   "source": [
    "df2['avg_expenditure']=df2.groupby(['user_id'])['prices'].transform(np.mean)"
   ]
  },
  {
   "cell_type": "code",
   "execution_count": 53,
   "id": "e63aa81c",
   "metadata": {
    "collapsed": true
   },
   "outputs": [
    {
     "name": "stderr",
     "output_type": "stream",
     "text": [
      "C:\\Users\\Shelb\\AppData\\Local\\Temp\\ipykernel_17524\\3032774477.py:1: SettingWithCopyWarning: \n",
      "A value is trying to be set on a copy of a slice from a DataFrame.\n",
      "Try using .loc[row_indexer,col_indexer] = value instead\n",
      "\n",
      "See the caveats in the documentation: https://pandas.pydata.org/pandas-docs/stable/user_guide/indexing.html#returning-a-view-versus-a-copy\n",
      "  df2['avg_expenditure']=df2['avg_expenditure'].astype('int32')\n"
     ]
    }
   ],
   "source": [
    "df2['avg_expenditure']=df2['avg_expenditure'].astype('int32')"
   ]
  },
  {
   "cell_type": "code",
   "execution_count": 54,
   "id": "b7aa67a1",
   "metadata": {},
   "outputs": [
    {
     "data": {
      "text/plain": [
       "30964564"
      ]
     },
     "execution_count": 54,
     "metadata": {},
     "output_type": "execute_result"
    }
   ],
   "source": [
    "len(df2['avg_expenditure'])"
   ]
  },
  {
   "cell_type": "code",
   "execution_count": 55,
   "id": "b81eb770",
   "metadata": {},
   "outputs": [
    {
     "data": {
      "text/html": [
       "<div>\n",
       "<style scoped>\n",
       "    .dataframe tbody tr th:only-of-type {\n",
       "        vertical-align: middle;\n",
       "    }\n",
       "\n",
       "    .dataframe tbody tr th {\n",
       "        vertical-align: top;\n",
       "    }\n",
       "\n",
       "    .dataframe thead th {\n",
       "        text-align: right;\n",
       "    }\n",
       "</style>\n",
       "<table border=\"1\" class=\"dataframe\">\n",
       "  <thead>\n",
       "    <tr style=\"text-align: right;\">\n",
       "      <th></th>\n",
       "      <th>order_id</th>\n",
       "      <th>user_id</th>\n",
       "      <th>order_number</th>\n",
       "      <th>order_day_of_week</th>\n",
       "      <th>hour_order_placed</th>\n",
       "      <th>days_since_prior_order</th>\n",
       "      <th>new_customer</th>\n",
       "      <th>product_id</th>\n",
       "      <th>add_to_cart_order</th>\n",
       "      <th>reordered</th>\n",
       "      <th>...</th>\n",
       "      <th>activity</th>\n",
       "      <th>family_status</th>\n",
       "      <th>vegan_status</th>\n",
       "      <th>age_category</th>\n",
       "      <th>min_usage_frequency</th>\n",
       "      <th>max_usage_frequency</th>\n",
       "      <th>average_usage_frequency</th>\n",
       "      <th>max_expenditure</th>\n",
       "      <th>min_expenditure</th>\n",
       "      <th>avg_expenditure</th>\n",
       "    </tr>\n",
       "  </thead>\n",
       "  <tbody>\n",
       "    <tr>\n",
       "      <th>0</th>\n",
       "      <td>2539329</td>\n",
       "      <td>1</td>\n",
       "      <td>1</td>\n",
       "      <td>2</td>\n",
       "      <td>8</td>\n",
       "      <td>NaN</td>\n",
       "      <td>True</td>\n",
       "      <td>196</td>\n",
       "      <td>1</td>\n",
       "      <td>0</td>\n",
       "      <td>...</td>\n",
       "      <td>normal</td>\n",
       "      <td>family with older children</td>\n",
       "      <td>vegan</td>\n",
       "      <td>young adult</td>\n",
       "      <td>30</td>\n",
       "      <td>0</td>\n",
       "      <td>20</td>\n",
       "      <td>14</td>\n",
       "      <td>1</td>\n",
       "      <td>6</td>\n",
       "    </tr>\n",
       "    <tr>\n",
       "      <th>1</th>\n",
       "      <td>2398795</td>\n",
       "      <td>1</td>\n",
       "      <td>2</td>\n",
       "      <td>3</td>\n",
       "      <td>7</td>\n",
       "      <td>15.0</td>\n",
       "      <td>False</td>\n",
       "      <td>196</td>\n",
       "      <td>1</td>\n",
       "      <td>1</td>\n",
       "      <td>...</td>\n",
       "      <td>normal</td>\n",
       "      <td>family with older children</td>\n",
       "      <td>vegan</td>\n",
       "      <td>young adult</td>\n",
       "      <td>30</td>\n",
       "      <td>0</td>\n",
       "      <td>20</td>\n",
       "      <td>14</td>\n",
       "      <td>1</td>\n",
       "      <td>6</td>\n",
       "    </tr>\n",
       "    <tr>\n",
       "      <th>2</th>\n",
       "      <td>473747</td>\n",
       "      <td>1</td>\n",
       "      <td>3</td>\n",
       "      <td>3</td>\n",
       "      <td>12</td>\n",
       "      <td>21.0</td>\n",
       "      <td>False</td>\n",
       "      <td>196</td>\n",
       "      <td>1</td>\n",
       "      <td>1</td>\n",
       "      <td>...</td>\n",
       "      <td>normal</td>\n",
       "      <td>family with older children</td>\n",
       "      <td>vegan</td>\n",
       "      <td>young adult</td>\n",
       "      <td>30</td>\n",
       "      <td>0</td>\n",
       "      <td>20</td>\n",
       "      <td>14</td>\n",
       "      <td>1</td>\n",
       "      <td>6</td>\n",
       "    </tr>\n",
       "    <tr>\n",
       "      <th>3</th>\n",
       "      <td>2254736</td>\n",
       "      <td>1</td>\n",
       "      <td>4</td>\n",
       "      <td>4</td>\n",
       "      <td>7</td>\n",
       "      <td>29.0</td>\n",
       "      <td>False</td>\n",
       "      <td>196</td>\n",
       "      <td>1</td>\n",
       "      <td>1</td>\n",
       "      <td>...</td>\n",
       "      <td>normal</td>\n",
       "      <td>family with older children</td>\n",
       "      <td>vegan</td>\n",
       "      <td>young adult</td>\n",
       "      <td>30</td>\n",
       "      <td>0</td>\n",
       "      <td>20</td>\n",
       "      <td>14</td>\n",
       "      <td>1</td>\n",
       "      <td>6</td>\n",
       "    </tr>\n",
       "    <tr>\n",
       "      <th>4</th>\n",
       "      <td>431534</td>\n",
       "      <td>1</td>\n",
       "      <td>5</td>\n",
       "      <td>4</td>\n",
       "      <td>15</td>\n",
       "      <td>28.0</td>\n",
       "      <td>False</td>\n",
       "      <td>196</td>\n",
       "      <td>1</td>\n",
       "      <td>1</td>\n",
       "      <td>...</td>\n",
       "      <td>normal</td>\n",
       "      <td>family with older children</td>\n",
       "      <td>vegan</td>\n",
       "      <td>young adult</td>\n",
       "      <td>30</td>\n",
       "      <td>0</td>\n",
       "      <td>20</td>\n",
       "      <td>14</td>\n",
       "      <td>1</td>\n",
       "      <td>6</td>\n",
       "    </tr>\n",
       "  </tbody>\n",
       "</table>\n",
       "<p>5 rows × 42 columns</p>\n",
       "</div>"
      ],
      "text/plain": [
       "   order_id  user_id  order_number  order_day_of_week  hour_order_placed  \\\n",
       "0   2539329        1             1                  2                  8   \n",
       "1   2398795        1             2                  3                  7   \n",
       "2    473747        1             3                  3                 12   \n",
       "3   2254736        1             4                  4                  7   \n",
       "4    431534        1             5                  4                 15   \n",
       "\n",
       "   days_since_prior_order  new_customer  product_id  add_to_cart_order  \\\n",
       "0                     NaN          True         196                  1   \n",
       "1                    15.0         False         196                  1   \n",
       "2                    21.0         False         196                  1   \n",
       "3                    29.0         False         196                  1   \n",
       "4                    28.0         False         196                  1   \n",
       "\n",
       "   reordered  ... activity               family_status  vegan_status  \\\n",
       "0          0  ...   normal  family with older children         vegan   \n",
       "1          1  ...   normal  family with older children         vegan   \n",
       "2          1  ...   normal  family with older children         vegan   \n",
       "3          1  ...   normal  family with older children         vegan   \n",
       "4          1  ...   normal  family with older children         vegan   \n",
       "\n",
       "   age_category min_usage_frequency max_usage_frequency  \\\n",
       "0   young adult                  30                   0   \n",
       "1   young adult                  30                   0   \n",
       "2   young adult                  30                   0   \n",
       "3   young adult                  30                   0   \n",
       "4   young adult                  30                   0   \n",
       "\n",
       "  average_usage_frequency  max_expenditure min_expenditure avg_expenditure  \n",
       "0                      20               14               1               6  \n",
       "1                      20               14               1               6  \n",
       "2                      20               14               1               6  \n",
       "3                      20               14               1               6  \n",
       "4                      20               14               1               6  \n",
       "\n",
       "[5 rows x 42 columns]"
      ]
     },
     "execution_count": 55,
     "metadata": {},
     "output_type": "execute_result"
    }
   ],
   "source": [
    "df2.head()"
   ]
  },
  {
   "cell_type": "markdown",
   "id": "7c50146d",
   "metadata": {},
   "source": [
    "## Visualizations"
   ]
  },
  {
   "cell_type": "code",
   "execution_count": 56,
   "id": "e91c957f",
   "metadata": {},
   "outputs": [
    {
     "data": {
      "image/png": "[encoded data removed]",
      "text/plain": [
       "<Figure size 640x480 with 1 Axes>"
      ]
     },
     "metadata": {},
     "output_type": "display_data"
    }
   ],
   "source": [
    "# To create a bar graph showing the distribution of the family_status column\n",
    "fam_status_bar=df2['family_status'].value_counts().plot.bar(color=['green','orange','black'])"
   ]
  },
  {
   "cell_type": "markdown",
   "id": "13d02e23",
   "metadata": {},
   "source": [
    "#### Instacart's orders are primarily from families with older children (children who have aged out of needing items from the baby aisle)."
   ]
  },
  {
   "cell_type": "code",
   "execution_count": 57,
   "id": "56f22de3",
   "metadata": {},
   "outputs": [],
   "source": [
    "# To save the fam_status_bar chart as a PNG\n",
    "fam_status_bar.figure.savefig(os.path.join(path,'Analysis','Visualizations','fam_status_bar.png'))"
   ]
  },
  {
   "cell_type": "code",
   "execution_count": 58,
   "id": "bdc03e62",
   "metadata": {},
   "outputs": [
    {
     "data": {
      "image/png": "[encoded data removed]",
      "text/plain": [
       "<Figure size 640x480 with 1 Axes>"
      ]
     },
     "metadata": {},
     "output_type": "display_data"
    }
   ],
   "source": [
    "# To create a bar chart from the vegan_status column\n",
    "veg_status_bar=df2['vegan_status'].value_counts().plot.bar(color=['green','orange'])"
   ]
  },
  {
   "cell_type": "markdown",
   "id": "a353d919",
   "metadata": {},
   "source": [
    "#### Instacart receives more orders fromvegan customers (those who do not purchase meat, seafood, dairy, eggs, or deli items) than non-vegan customers. However, there is a possibility that some of these 'vegan' shoppers might not actually be vegans, but avoid buying non-vegan grocery items online due to concerns about quality and/or freshness. More data about customer perception of product quality is necessary to determine whether this is the case."
   ]
  },
  {
   "cell_type": "code",
   "execution_count": 59,
   "id": "16c603f5",
   "metadata": {},
   "outputs": [],
   "source": [
    "# To save the veg_status_bar chart as a PNG\n",
    "veg_status_bar.figure.savefig(os.path.join(path,'Analysis','Visualizations','veg_status_bar.png'))"
   ]
  },
  {
   "cell_type": "code",
   "execution_count": 60,
   "id": "5c0e02d9",
   "metadata": {},
   "outputs": [
    {
     "data": {
      "image/png": "[encoded data removed]",
      "text/plain": [
       "<Figure size 640x480 with 1 Axes>"
      ]
     },
     "metadata": {},
     "output_type": "display_data"
    }
   ],
   "source": [
    "# To create a histogram of the age column\n",
    "age_hist=df2['age'].plot.hist(bins=5)"
   ]
  },
  {
   "cell_type": "code",
   "execution_count": 61,
   "id": "8b6616ee",
   "metadata": {},
   "outputs": [
    {
     "data": {
      "image/png": "[encoded data removed]",
      "text/plain": [
       "<Figure size 640x480 with 1 Axes>"
      ]
     },
     "metadata": {},
     "output_type": "display_data"
    }
   ],
   "source": [
    "# To create a bar graph of the age_category column\n",
    "age_cat_bar=df2['age_category'].value_counts().plot.bar(color=['orangered','darkorange','orange','gold','yellow'])"
   ]
  },
  {
   "cell_type": "markdown",
   "id": "59d054f9",
   "metadata": {},
   "source": [
    "#### Both the age categories bar chart and the age histogram suggest that most of instacart's orders are from custoemrs in the senior age group (adults over 60), followed by those in the college age group (adults aged 18 to 29). The age category with the least instacart orders is the late career adult category (users in their 50s). "
   ]
  },
  {
   "cell_type": "code",
   "execution_count": 62,
   "id": "f2220320",
   "metadata": {},
   "outputs": [],
   "source": [
    "# To save age_hist as a PNG\n",
    "age_hist.figure.savefig(os.path.join(path,'Analysis','Visualizations','age_hist.png'))"
   ]
  },
  {
   "cell_type": "code",
   "execution_count": 63,
   "id": "9ed0f3c4",
   "metadata": {},
   "outputs": [],
   "source": [
    "# To save age_cat_bar as a PNG\n",
    "age_cat_bar.figure.savefig(os.path.join(path,'Analysis','Visualizations','age_category_bar.png'))"
   ]
  },
  {
   "cell_type": "markdown",
   "id": "fbb57f2f",
   "metadata": {},
   "source": [
    "## Crosstabulating and aggregating customer profile variables"
   ]
  },
  {
   "cell_type": "code",
   "execution_count": 64,
   "id": "43b607eb",
   "metadata": {},
   "outputs": [],
   "source": [
    "# To crosstuabulate customer family status by region\n",
    "crosstab_fam_status=pd.crosstab(df2['regions'],df2['family_status'],dropna=False)"
   ]
  },
  {
   "cell_type": "code",
   "execution_count": 65,
   "id": "89735083",
   "metadata": {},
   "outputs": [
    {
     "data": {
      "text/html": [
       "<div>\n",
       "<style scoped>\n",
       "    .dataframe tbody tr th:only-of-type {\n",
       "        vertical-align: middle;\n",
       "    }\n",
       "\n",
       "    .dataframe tbody tr th {\n",
       "        vertical-align: top;\n",
       "    }\n",
       "\n",
       "    .dataframe thead th {\n",
       "        text-align: right;\n",
       "    }\n",
       "</style>\n",
       "<table border=\"1\" class=\"dataframe\">\n",
       "  <thead>\n",
       "    <tr style=\"text-align: right;\">\n",
       "      <th>family_status</th>\n",
       "      <th>family with older children</th>\n",
       "      <th>family with young children</th>\n",
       "      <th>no children</th>\n",
       "    </tr>\n",
       "    <tr>\n",
       "      <th>regions</th>\n",
       "      <th></th>\n",
       "      <th></th>\n",
       "      <th></th>\n",
       "    </tr>\n",
       "  </thead>\n",
       "  <tbody>\n",
       "    <tr>\n",
       "      <th>Midwest</th>\n",
       "      <td>5367664</td>\n",
       "      <td>71033</td>\n",
       "      <td>1822816</td>\n",
       "    </tr>\n",
       "    <tr>\n",
       "      <th>Northeast</th>\n",
       "      <td>4055516</td>\n",
       "      <td>54687</td>\n",
       "      <td>1354482</td>\n",
       "    </tr>\n",
       "    <tr>\n",
       "      <th>South</th>\n",
       "      <td>7624975</td>\n",
       "      <td>104231</td>\n",
       "      <td>2581933</td>\n",
       "    </tr>\n",
       "    <tr>\n",
       "      <th>West</th>\n",
       "      <td>5869664</td>\n",
       "      <td>77113</td>\n",
       "      <td>1980450</td>\n",
       "    </tr>\n",
       "  </tbody>\n",
       "</table>\n",
       "</div>"
      ],
      "text/plain": [
       "family_status  family with older children  family with young children  \\\n",
       "regions                                                                 \n",
       "Midwest                           5367664                       71033   \n",
       "Northeast                         4055516                       54687   \n",
       "South                             7624975                      104231   \n",
       "West                              5869664                       77113   \n",
       "\n",
       "family_status  no children  \n",
       "regions                     \n",
       "Midwest            1822816  \n",
       "Northeast          1354482  \n",
       "South              2581933  \n",
       "West               1980450  "
      ]
     },
     "execution_count": 65,
     "metadata": {},
     "output_type": "execute_result"
    }
   ],
   "source": [
    "crosstab_fam_status"
   ]
  },
  {
   "cell_type": "code",
   "execution_count": 66,
   "id": "88e6b8b5",
   "metadata": {},
   "outputs": [],
   "source": [
    "crosstab_fam_status.to_clipboard()"
   ]
  },
  {
   "cell_type": "code",
   "execution_count": 67,
   "id": "225657b1",
   "metadata": {},
   "outputs": [],
   "source": [
    "# To crosstabulate vegan status by region\n",
    "crosstab_veg_status=pd.crosstab(df2['regions'],df2['vegan_status'],dropna=False)"
   ]
  },
  {
   "cell_type": "code",
   "execution_count": 68,
   "id": "f1c6b6f7",
   "metadata": {},
   "outputs": [
    {
     "data": {
      "text/html": [
       "<div>\n",
       "<style scoped>\n",
       "    .dataframe tbody tr th:only-of-type {\n",
       "        vertical-align: middle;\n",
       "    }\n",
       "\n",
       "    .dataframe tbody tr th {\n",
       "        vertical-align: top;\n",
       "    }\n",
       "\n",
       "    .dataframe thead th {\n",
       "        text-align: right;\n",
       "    }\n",
       "</style>\n",
       "<table border=\"1\" class=\"dataframe\">\n",
       "  <thead>\n",
       "    <tr style=\"text-align: right;\">\n",
       "      <th>vegan_status</th>\n",
       "      <th>not vegan</th>\n",
       "      <th>vegan</th>\n",
       "    </tr>\n",
       "    <tr>\n",
       "      <th>regions</th>\n",
       "      <th></th>\n",
       "      <th></th>\n",
       "    </tr>\n",
       "  </thead>\n",
       "  <tbody>\n",
       "    <tr>\n",
       "      <th>Midwest</th>\n",
       "      <td>1605214</td>\n",
       "      <td>5656299</td>\n",
       "    </tr>\n",
       "    <tr>\n",
       "      <th>Northeast</th>\n",
       "      <td>1211585</td>\n",
       "      <td>4253100</td>\n",
       "    </tr>\n",
       "    <tr>\n",
       "      <th>South</th>\n",
       "      <td>2280756</td>\n",
       "      <td>8030383</td>\n",
       "    </tr>\n",
       "    <tr>\n",
       "      <th>West</th>\n",
       "      <td>1758242</td>\n",
       "      <td>6168985</td>\n",
       "    </tr>\n",
       "  </tbody>\n",
       "</table>\n",
       "</div>"
      ],
      "text/plain": [
       "vegan_status  not vegan    vegan\n",
       "regions                         \n",
       "Midwest         1605214  5656299\n",
       "Northeast       1211585  4253100\n",
       "South           2280756  8030383\n",
       "West            1758242  6168985"
      ]
     },
     "execution_count": 68,
     "metadata": {},
     "output_type": "execute_result"
    }
   ],
   "source": [
    "crosstab_veg_status"
   ]
  },
  {
   "cell_type": "code",
   "execution_count": 69,
   "id": "3c1edcb3",
   "metadata": {},
   "outputs": [],
   "source": [
    "crosstab_veg_status.to_clipboard()"
   ]
  },
  {
   "cell_type": "code",
   "execution_count": 70,
   "id": "1fce3ddd",
   "metadata": {},
   "outputs": [],
   "source": [
    "crosstab_age_category=pd.crosstab(df2['regions'],df2['age_category'],dropna=False)"
   ]
  },
  {
   "cell_type": "code",
   "execution_count": 71,
   "id": "152b6d46",
   "metadata": {},
   "outputs": [
    {
     "data": {
      "text/html": [
       "<div>\n",
       "<style scoped>\n",
       "    .dataframe tbody tr th:only-of-type {\n",
       "        vertical-align: middle;\n",
       "    }\n",
       "\n",
       "    .dataframe tbody tr th {\n",
       "        vertical-align: top;\n",
       "    }\n",
       "\n",
       "    .dataframe thead th {\n",
       "        text-align: right;\n",
       "    }\n",
       "</style>\n",
       "<table border=\"1\" class=\"dataframe\">\n",
       "  <thead>\n",
       "    <tr style=\"text-align: right;\">\n",
       "      <th>age_category</th>\n",
       "      <th>college age</th>\n",
       "      <th>late career adult</th>\n",
       "      <th>middle age adult</th>\n",
       "      <th>senior</th>\n",
       "      <th>young adult</th>\n",
       "    </tr>\n",
       "    <tr>\n",
       "      <th>regions</th>\n",
       "      <th></th>\n",
       "      <th></th>\n",
       "      <th></th>\n",
       "      <th></th>\n",
       "      <th></th>\n",
       "    </tr>\n",
       "  </thead>\n",
       "  <tbody>\n",
       "    <tr>\n",
       "      <th>Midwest</th>\n",
       "      <td>1355838</td>\n",
       "      <td>1148268</td>\n",
       "      <td>1174801</td>\n",
       "      <td>2356770</td>\n",
       "      <td>1127163</td>\n",
       "    </tr>\n",
       "    <tr>\n",
       "      <th>Northeast</th>\n",
       "      <td>1023984</td>\n",
       "      <td>849153</td>\n",
       "      <td>859566</td>\n",
       "      <td>1809013</td>\n",
       "      <td>847753</td>\n",
       "    </tr>\n",
       "    <tr>\n",
       "      <th>South</th>\n",
       "      <td>1960651</td>\n",
       "      <td>1580347</td>\n",
       "      <td>1601124</td>\n",
       "      <td>3361229</td>\n",
       "      <td>1647596</td>\n",
       "    </tr>\n",
       "    <tr>\n",
       "      <th>West</th>\n",
       "      <td>1477130</td>\n",
       "      <td>1264003</td>\n",
       "      <td>1247688</td>\n",
       "      <td>2585595</td>\n",
       "      <td>1224995</td>\n",
       "    </tr>\n",
       "  </tbody>\n",
       "</table>\n",
       "</div>"
      ],
      "text/plain": [
       "age_category  college age  late career adult  middle age adult   senior  \\\n",
       "regions                                                                   \n",
       "Midwest           1355838            1148268           1174801  2356770   \n",
       "Northeast         1023984             849153            859566  1809013   \n",
       "South             1960651            1580347           1601124  3361229   \n",
       "West              1477130            1264003           1247688  2585595   \n",
       "\n",
       "age_category  young adult  \n",
       "regions                    \n",
       "Midwest           1127163  \n",
       "Northeast          847753  \n",
       "South             1647596  \n",
       "West              1224995  "
      ]
     },
     "execution_count": 71,
     "metadata": {},
     "output_type": "execute_result"
    }
   ],
   "source": [
    "crosstab_age_category"
   ]
  },
  {
   "cell_type": "code",
   "execution_count": 72,
   "id": "3557f1ef",
   "metadata": {},
   "outputs": [],
   "source": [
    "crosstab_age_category.to_clipboard()"
   ]
  },
  {
   "cell_type": "code",
   "execution_count": 73,
   "id": "5e1e3ac2",
   "metadata": {},
   "outputs": [
    {
     "data": {
      "text/plain": [
       "(30964564, 42)"
      ]
     },
     "execution_count": 73,
     "metadata": {},
     "output_type": "execute_result"
    }
   ],
   "source": [
    "df2.shape"
   ]
  },
  {
   "cell_type": "code",
   "execution_count": 75,
   "id": "dad32580",
   "metadata": {},
   "outputs": [
    {
     "data": {
      "text/plain": [
       "family with older children    22917819\n",
       "no children                    7739681\n",
       "family with young children      307064\n",
       "Name: family_status, dtype: int64"
      ]
     },
     "execution_count": 75,
     "metadata": {},
     "output_type": "execute_result"
    }
   ],
   "source": [
    "# To count the values of family_status\n",
    "df2['family_status'].value_counts()"
   ]
  },
  {
   "cell_type": "code",
   "execution_count": 79,
   "id": "b8a729be",
   "metadata": {},
   "outputs": [
    {
     "data": {
      "text/plain": [
       "family_status\n",
       "family with older children    7.291404\n",
       "family with young children    7.329654\n",
       "no children                   7.289405\n",
       "Name: avg_expenditure, dtype: float64"
      ]
     },
     "execution_count": 79,
     "metadata": {},
     "output_type": "execute_result"
    }
   ],
   "source": [
    "# To aggregate the average amount spent by each family status category\n",
    "df2.groupby('family_status')['avg_expenditure'].mean()"
   ]
  },
  {
   "cell_type": "code",
   "execution_count": 80,
   "id": "01457bac",
   "metadata": {},
   "outputs": [
    {
     "data": {
      "text/plain": [
       "age_category\n",
       "college age          7.279466\n",
       "late career adult    7.282755\n",
       "middle age adult     7.303909\n",
       "senior               7.296239\n",
       "young adult          7.290676\n",
       "Name: avg_expenditure, dtype: float64"
      ]
     },
     "execution_count": 80,
     "metadata": {},
     "output_type": "execute_result"
    }
   ],
   "source": [
    "# To aggregate the average amount spent by age category\n",
    "df2.groupby('age_category')['avg_expenditure'].mean()"
   ]
  },
  {
   "cell_type": "code",
   "execution_count": 81,
   "id": "b11b92e5",
   "metadata": {},
   "outputs": [
    {
     "data": {
      "text/plain": [
       "vegan_status\n",
       "not vegan    7.356727\n",
       "vegan        7.272673\n",
       "Name: avg_expenditure, dtype: float64"
      ]
     },
     "execution_count": 81,
     "metadata": {},
     "output_type": "execute_result"
    }
   ],
   "source": [
    "# To aggregate the average amount spent by vegan status\n",
    "df2.groupby('vegan_status')['avg_expenditure'].mean()"
   ]
  },
  {
   "cell_type": "markdown",
   "id": "dcc328e0",
   "metadata": {},
   "source": [
    "## Saving and exporting the final data set"
   ]
  },
  {
   "cell_type": "code",
   "execution_count": 74,
   "id": "d2434163",
   "metadata": {},
   "outputs": [
    {
     "ename": "KeyboardInterrupt",
     "evalue": "",
     "output_type": "error",
     "traceback": [
      "\u001b[1;31m---------------------------------------------------------------------------\u001b[0m",
      "\u001b[1;31mKeyboardInterrupt\u001b[0m                         Traceback (most recent call last)",
      "\u001b[1;32m~\\AppData\\Local\\Temp\\ipykernel_17524\\1124685317.py\u001b[0m in \u001b[0;36m<module>\u001b[1;34m\u001b[0m\n\u001b[1;32m----> 1\u001b[1;33m \u001b[0mdf2\u001b[0m\u001b[1;33m.\u001b[0m\u001b[0mto_pickle\u001b[0m\u001b[1;33m(\u001b[0m\u001b[0mos\u001b[0m\u001b[1;33m.\u001b[0m\u001b[0mpath\u001b[0m\u001b[1;33m.\u001b[0m\u001b[0mjoin\u001b[0m\u001b[1;33m(\u001b[0m\u001b[0mpath\u001b[0m\u001b[1;33m,\u001b[0m\u001b[1;34m'Data'\u001b[0m\u001b[1;33m,\u001b[0m\u001b[1;34m'Prepared Data'\u001b[0m\u001b[1;33m,\u001b[0m\u001b[1;34m'11-22_final_dataset.pkl'\u001b[0m\u001b[1;33m)\u001b[0m\u001b[1;33m)\u001b[0m\u001b[1;33m\u001b[0m\u001b[1;33m\u001b[0m\u001b[0m\n\u001b[0m",
      "\u001b[1;32m~\\anaconda3\\lib\\site-packages\\pandas\\core\\generic.py\u001b[0m in \u001b[0;36mto_pickle\u001b[1;34m(self, path, compression, protocol, storage_options)\u001b[0m\n\u001b[0;32m   3024\u001b[0m         \u001b[1;32mfrom\u001b[0m \u001b[0mpandas\u001b[0m\u001b[1;33m.\u001b[0m\u001b[0mio\u001b[0m\u001b[1;33m.\u001b[0m\u001b[0mpickle\u001b[0m \u001b[1;32mimport\u001b[0m \u001b[0mto_pickle\u001b[0m\u001b[1;33m\u001b[0m\u001b[1;33m\u001b[0m\u001b[0m\n\u001b[0;32m   3025\u001b[0m \u001b[1;33m\u001b[0m\u001b[0m\n\u001b[1;32m-> 3026\u001b[1;33m         to_pickle(\n\u001b[0m\u001b[0;32m   3027\u001b[0m             \u001b[0mself\u001b[0m\u001b[1;33m,\u001b[0m\u001b[1;33m\u001b[0m\u001b[1;33m\u001b[0m\u001b[0m\n\u001b[0;32m   3028\u001b[0m             \u001b[0mpath\u001b[0m\u001b[1;33m,\u001b[0m\u001b[1;33m\u001b[0m\u001b[1;33m\u001b[0m\u001b[0m\n",
      "\u001b[1;32m~\\anaconda3\\lib\\site-packages\\pandas\\io\\pickle.py\u001b[0m in \u001b[0;36mto_pickle\u001b[1;34m(obj, filepath_or_buffer, compression, protocol, storage_options)\u001b[0m\n\u001b[0;32m    110\u001b[0m         \u001b[1;32melse\u001b[0m\u001b[1;33m:\u001b[0m\u001b[1;33m\u001b[0m\u001b[1;33m\u001b[0m\u001b[0m\n\u001b[0;32m    111\u001b[0m             \u001b[1;31m# letting pickle write directly to the buffer is more memory-efficient\u001b[0m\u001b[1;33m\u001b[0m\u001b[1;33m\u001b[0m\u001b[0m\n\u001b[1;32m--> 112\u001b[1;33m             \u001b[0mpickle\u001b[0m\u001b[1;33m.\u001b[0m\u001b[0mdump\u001b[0m\u001b[1;33m(\u001b[0m\u001b[0mobj\u001b[0m\u001b[1;33m,\u001b[0m \u001b[0mhandles\u001b[0m\u001b[1;33m.\u001b[0m\u001b[0mhandle\u001b[0m\u001b[1;33m,\u001b[0m \u001b[0mprotocol\u001b[0m\u001b[1;33m=\u001b[0m\u001b[0mprotocol\u001b[0m\u001b[1;33m)\u001b[0m\u001b[1;33m\u001b[0m\u001b[1;33m\u001b[0m\u001b[0m\n\u001b[0m\u001b[0;32m    113\u001b[0m \u001b[1;33m\u001b[0m\u001b[0m\n\u001b[0;32m    114\u001b[0m \u001b[1;33m\u001b[0m\u001b[0m\n",
      "\u001b[1;31mKeyboardInterrupt\u001b[0m: "
     ]
    }
   ],
   "source": [
    "df2.to_pickle(os.path.join(path,'Data','Prepared Data','11-22_final_dataset.pkl'))"
   ]
  }
 ],
 "metadata": {
  "kernelspec": {
   "display_name": "Python 3 (ipykernel)",
   "language": "python",
   "name": "python3"
  },
  "language_info": {
   "codemirror_mode": {
    "name": "ipython",
    "version": 3
   },
   "file_extension": ".py",
   "mimetype": "text/x-python",
   "name": "python",
   "nbconvert_exporter": "python",
   "pygments_lexer": "ipython3",
   "version": "3.9.13"
  }
 },
 "nbformat": 4,
 "nbformat_minor": 5
}
