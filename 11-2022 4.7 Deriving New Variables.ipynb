{
 "cells": [
  {
   "cell_type": "markdown",
   "id": "94e625b4",
   "metadata": {},
   "source": [
    "# Contents:"
   ]
  },
  {
   "cell_type": "markdown",
   "id": "8d9a14d6",
   "metadata": {},
   "source": [
    "#### Importing libraries and dataframes\n",
    "#### Assessing orders by department\n",
    "#### Creating a price range column\n",
    "#### Creating a busiest day column\n",
    "#### Convert busiestday column to busiest days\n",
    "#### Create busiest period of day column\n",
    "#### Exporting the dataframe as a pkl file"
   ]
  },
  {
   "cell_type": "markdown",
   "id": "8b1497d6",
   "metadata": {},
   "source": [
    "## Importing libraries and dataframes"
   ]
  },
  {
   "cell_type": "code",
   "execution_count": 1,
   "id": "3ef48088",
   "metadata": {},
   "outputs": [],
   "source": [
    "import pandas as pd\n",
    "import numpy as np\n",
    "import os"
   ]
  },
  {
   "cell_type": "code",
   "execution_count": 2,
   "id": "b4dd7e73",
   "metadata": {},
   "outputs": [],
   "source": [
    "# To create a path to the Instacart project folder\n",
    "path=r'C:\\Users\\Shelb\\OneDrive\\Documents\\CF Coursework\\Python Fundamentals for Data Analysts\\10-2022 Instacart Basket Analysis'"
   ]
  },
  {
   "cell_type": "code",
   "execution_count": 3,
   "id": "5bc55227",
   "metadata": {},
   "outputs": [],
   "source": [
    "# To import orders_products_merged.pkl as a dataframe object\n",
    "df=pd.read_pickle(os.path.join(path,'Data','Prepared Data','orders_products_merged.pkl'))"
   ]
  },
  {
   "cell_type": "markdown",
   "id": "777a4201",
   "metadata": {},
   "source": [
    "## Assessing orders by department"
   ]
  },
  {
   "cell_type": "code",
   "execution_count": 4,
   "id": "020e71c0",
   "metadata": {},
   "outputs": [
    {
     "data": {
      "text/plain": [
       "4     9479291\n",
       "16    5398747\n",
       "19    2887550\n",
       "7     2688123\n",
       "1     2234743\n",
       "13    1875369\n",
       "3     1172428\n",
       "15    1068058\n",
       "20    1051249\n",
       "9      866627\n",
       "17     738666\n",
       "12     708927\n",
       "14     703033\n",
       "11     447572\n",
       "18     423802\n",
       "6      269253\n",
       "5      153696\n",
       "8       97716\n",
       "21      69145\n",
       "2       36291\n",
       "10      34573\n",
       "Name: department_id, dtype: int64"
      ]
     },
     "execution_count": 4,
     "metadata": {},
     "output_type": "execute_result"
    }
   ],
   "source": [
    "df['department_id'].value_counts()"
   ]
  },
  {
   "cell_type": "markdown",
   "id": "09ae0a5c",
   "metadata": {},
   "source": [
    "## Creating a price_range column"
   ]
  },
  {
   "cell_type": "code",
   "execution_count": 5,
   "id": "e24dbde9",
   "metadata": {},
   "outputs": [],
   "source": [
    "# Creating a price_range column to flag low, mid, and high price range products\n",
    "df.loc[df['prices']>15,'price_range']='High range product'"
   ]
  },
  {
   "cell_type": "code",
   "execution_count": 6,
   "id": "c952a8a1",
   "metadata": {},
   "outputs": [],
   "source": [
    "df.loc[(df['prices']<=15)&(df['prices']>5),'price_range']='Mid range product'"
   ]
  },
  {
   "cell_type": "code",
   "execution_count": 7,
   "id": "9d787734",
   "metadata": {},
   "outputs": [],
   "source": [
    "df.loc[df['prices']<=5,'price_range']='Low range product'"
   ]
  },
  {
   "cell_type": "code",
   "execution_count": 8,
   "id": "ae32d387",
   "metadata": {},
   "outputs": [
    {
     "data": {
      "text/plain": [
       "Mid range product     21860860\n",
       "Low range product     10126321\n",
       "High range product      417678\n",
       "Name: price_range, dtype: int64"
      ]
     },
     "execution_count": 8,
     "metadata": {},
     "output_type": "execute_result"
    }
   ],
   "source": [
    "# To check values for each category\n",
    "df['price_range'].value_counts(dropna=False)"
   ]
  },
  {
   "cell_type": "markdown",
   "id": "65d573f6",
   "metadata": {},
   "source": [
    "## Creating a busiest_day column"
   ]
  },
  {
   "cell_type": "code",
   "execution_count": 9,
   "id": "9babff92",
   "metadata": {},
   "outputs": [
    {
     "data": {
      "text/plain": [
       "0    6204182\n",
       "1    5660230\n",
       "6    4496490\n",
       "2    4213830\n",
       "5    4205791\n",
       "3    3840534\n",
       "4    3783802\n",
       "Name: order_day_of_week, dtype: int64"
      ]
     },
     "execution_count": 9,
     "metadata": {},
     "output_type": "execute_result"
    }
   ],
   "source": [
    "# Checking values for orders_days_of_the_week\n",
    "df['order_day_of_week'].value_counts(dropna=False)"
   ]
  },
  {
   "cell_type": "code",
   "execution_count": 10,
   "id": "707b689c",
   "metadata": {},
   "outputs": [],
   "source": [
    "# Create empty list and logic for busiest_day column\n",
    "result=[]\n",
    "\n",
    "for value in df['order_day_of_week']:\n",
    "    if value==0:\n",
    "        result.append('Busiest Day')\n",
    "    elif value==4:\n",
    "        result.append('Least Busy')\n",
    "    else:\n",
    "        result.append('Regularly busy')"
   ]
  },
  {
   "cell_type": "code",
   "execution_count": 11,
   "id": "87724266",
   "metadata": {},
   "outputs": [],
   "source": [
    "# Fill values in the busiest_day column with logic from result\n",
    "df['busiest_day']=result"
   ]
  },
  {
   "cell_type": "code",
   "execution_count": 12,
   "id": "4f0e27c5",
   "metadata": {},
   "outputs": [
    {
     "data": {
      "text/plain": [
       "Regularly busy    22416875\n",
       "Busiest Day        6204182\n",
       "Least Busy         3783802\n",
       "Name: busiest_day, dtype: int64"
      ]
     },
     "execution_count": 12,
     "metadata": {},
     "output_type": "execute_result"
    }
   ],
   "source": [
    "df['busiest_day'].value_counts(dropna=False)"
   ]
  },
  {
   "cell_type": "markdown",
   "id": "268a0bb6",
   "metadata": {},
   "source": [
    "## Convert busiest_day column to busiest_days"
   ]
  },
  {
   "cell_type": "code",
   "execution_count": 13,
   "id": "67066cd6",
   "metadata": {},
   "outputs": [],
   "source": [
    "# Create empty list and logic for busiest_days column\n",
    "result=[]\n",
    "\n",
    "for value in df['order_day_of_week']:\n",
    "    if value==0:\n",
    "        result.append('Busiest Day')\n",
    "    elif value==1:\n",
    "        result.append('Busiest Day')\n",
    "    elif value==4:\n",
    "        result.append('Least Busy')\n",
    "    elif value==3:\n",
    "        result.append('Least Busy')\n",
    "    else:\n",
    "        result.append('Regularly Busy')"
   ]
  },
  {
   "cell_type": "code",
   "execution_count": 14,
   "id": "9648689d",
   "metadata": {},
   "outputs": [],
   "source": [
    "df['busiest_days']=result"
   ]
  },
  {
   "cell_type": "code",
   "execution_count": 15,
   "id": "e663cd39",
   "metadata": {},
   "outputs": [
    {
     "data": {
      "text/plain": [
       "Regularly Busy    12916111\n",
       "Busiest Day       11864412\n",
       "Least Busy         7624336\n",
       "Name: busiest_days, dtype: int64"
      ]
     },
     "execution_count": 15,
     "metadata": {},
     "output_type": "execute_result"
    }
   ],
   "source": [
    "# Check the values for the new busiest_days column\n",
    "df['busiest_days'].value_counts(dropna=False)"
   ]
  },
  {
   "cell_type": "markdown",
   "id": "51f5d559",
   "metadata": {},
   "source": [
    "## Create busiest_period_of_day column"
   ]
  },
  {
   "cell_type": "code",
   "execution_count": 16,
   "id": "0782b29d",
   "metadata": {},
   "outputs": [
    {
     "data": {
      "text/plain": [
       "count    3.240486e+07\n",
       "mean     1.342515e+01\n",
       "std      4.246380e+00\n",
       "min      0.000000e+00\n",
       "25%      1.000000e+01\n",
       "50%      1.300000e+01\n",
       "75%      1.600000e+01\n",
       "max      2.300000e+01\n",
       "Name: hour_order_placed, dtype: float64"
      ]
     },
     "execution_count": 16,
     "metadata": {},
     "output_type": "execute_result"
    }
   ],
   "source": [
    "# To check the interquartile range of the hour_order_placed column\n",
    "df['hour_order_placed'].describe()"
   ]
  },
  {
   "cell_type": "code",
   "execution_count": 17,
   "id": "4ffb003f",
   "metadata": {},
   "outputs": [
    {
     "data": {
      "text/plain": [
       "10    2761760\n",
       "11    2736140\n",
       "14    2689136\n",
       "15    2662144\n",
       "13    2660954\n",
       "12    2618532\n",
       "16    2535202\n",
       "9     2454203\n",
       "17    2087654\n",
       "8     1718118\n",
       "18    1636502\n",
       "19    1258305\n",
       "20     976156\n",
       "7      891054\n",
       "21     795637\n",
       "22     634225\n",
       "23     402316\n",
       "6      290493\n",
       "0      218769\n",
       "1      115700\n",
       "5       87961\n",
       "2       69375\n",
       "4       53242\n",
       "3       51281\n",
       "Name: hour_order_placed, dtype: int64"
      ]
     },
     "execution_count": 17,
     "metadata": {},
     "output_type": "execute_result"
    }
   ],
   "source": [
    "# To count how many orders were placed each hour\n",
    "df['hour_order_placed'].value_counts(dropna=False)"
   ]
  },
  {
   "cell_type": "code",
   "execution_count": 18,
   "id": "dc343bfd",
   "metadata": {},
   "outputs": [],
   "source": [
    "# To create an empty result list and logic\n",
    "result=[]\n",
    "\n",
    "for value in df['hour_order_placed']:\n",
    "    if value in (10,11,14,15,13,12,16,9):\n",
    "        result.append('Most Orders')\n",
    "    elif value in (17,8,18,19,20,7,21,22):\n",
    "        result.append('Average Orders')\n",
    "    elif value in (23,6,0,1,5,2,4,3):\n",
    "        result.append('Fewest Orders')"
   ]
  },
  {
   "cell_type": "code",
   "execution_count": 19,
   "id": "56ae7406",
   "metadata": {},
   "outputs": [],
   "source": [
    "# To create a busiest_period_of_day column\n",
    "df['busiest_period_of_day']=result"
   ]
  },
  {
   "cell_type": "code",
   "execution_count": 20,
   "id": "0436c35a",
   "metadata": {},
   "outputs": [
    {
     "data": {
      "text/plain": [
       "Most Orders       21118071\n",
       "Average Orders     9997651\n",
       "Fewest Orders      1289137\n",
       "Name: busiest_period_of_day, dtype: int64"
      ]
     },
     "execution_count": 20,
     "metadata": {},
     "output_type": "execute_result"
    }
   ],
   "source": [
    "# To check values for each category\n",
    "df['busiest_period_of_day'].value_counts(dropna=False)"
   ]
  },
  {
   "cell_type": "markdown",
   "id": "65be8add",
   "metadata": {},
   "source": [
    "## Export file as pkl"
   ]
  },
  {
   "cell_type": "code",
   "execution_count": 21,
   "id": "851ec9f3",
   "metadata": {},
   "outputs": [],
   "source": [
    "df.to_pickle(os.path.join(path,'Data','Prepared Data','11-9_orders_products_merged.pkl'))"
   ]
  },
  {
   "cell_type": "code",
   "execution_count": null,
   "id": "89a93f3c",
   "metadata": {},
   "outputs": [],
   "source": []
  }
 ],
 "metadata": {
  "kernelspec": {
   "display_name": "Python 3 (ipykernel)",
   "language": "python",
   "name": "python3"
  },
  "language_info": {
   "codemirror_mode": {
    "name": "ipython",
    "version": 3
   },
   "file_extension": ".py",
   "mimetype": "text/x-python",
   "name": "python",
   "nbconvert_exporter": "python",
   "pygments_lexer": "ipython3",
   "version": "3.9.13"
  }
 },
 "nbformat": 4,
 "nbformat_minor": 5
}
